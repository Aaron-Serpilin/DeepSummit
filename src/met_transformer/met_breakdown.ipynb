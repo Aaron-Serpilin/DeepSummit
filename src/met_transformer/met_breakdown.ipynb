{
 "cells": [
  {
   "cell_type": "markdown",
   "id": "5990135c",
   "metadata": {},
   "source": [
    "# Architecture Breakdown of Conformer Architecture\n",
    "\n",
    "The following notebook is designed to break down the different elements of the Conformer architecture as documentation for the development of the code, and the corresponding customizations. "
   ]
  },
  {
   "cell_type": "markdown",
   "id": "7aaec10e",
   "metadata": {},
   "source": [
    "## Acknowledgments \n",
    "\n",
    "The content of the breakdown is based on the following public repos:\n",
    "* **Conformer**: https://github.com/sooftware/conformer/tree/main\n",
    "\n",
    "Similarly, beyond using Conformer as the backbone of this architecture, various elements from the Stormer architecture will also be incorporated, that will also be acknowledged:\n",
    "* **Stormer**: https://github.com/tung-nd/Stormer"
   ]
  },
  {
   "cell_type": "markdown",
   "id": "8994f404",
   "metadata": {},
   "source": [
    "## Conformer Equations"
   ]
  },
  {
   "cell_type": "markdown",
   "id": "e5dc5f00",
   "metadata": {},
   "source": [
    "### Conformer Architecture Stages"
   ]
  }
 ],
 "metadata": {
  "kernelspec": {
   "display_name": "Python3_Env",
   "language": "python",
   "name": "python3"
  },
  "language_info": {
   "name": "python",
   "version": "3.11.4"
  }
 },
 "nbformat": 4,
 "nbformat_minor": 5
}
