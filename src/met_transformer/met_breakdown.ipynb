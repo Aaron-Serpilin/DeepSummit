{
 "cells": [
  {
   "cell_type": "markdown",
   "id": "5990135c",
   "metadata": {},
   "source": [
    "# Architecture Breakdown of Stormer Architecture\n",
    "\n",
    "The following notebook is designed to break down the different elements of the Stormer architecture as documentation for the development of the code, and the corresponding customizations. "
   ]
  },
  {
   "cell_type": "markdown",
   "id": "7aaec10e",
   "metadata": {},
   "source": [
    "## Acknowledgments \n",
    "\n",
    "The content of the breakdown is based on the following public repos:\n",
    "* **Stormer**: https://github.com/tung-nd/Stormer"
   ]
  },
  {
   "cell_type": "markdown",
   "id": "6c09992a",
   "metadata": {},
   "source": [
    "## Stormer Architecture\n",
    "\n",
    "<img src=\"stormer_architecture.png\" alt=\"Stormer Architecture\">"
   ]
  },
  {
   "cell_type": "markdown",
   "id": "8994f404",
   "metadata": {},
   "source": [
    "## Equations\n",
    "\n",
    "The Stormer pipeline is described by the following equations found through sections 3 and 4 of the paper. \n",
    "\n",
    "$$\n",
    "\\mathcal{L}(\\theta)=\\mathbb{E}_{\\delta t \\sim P(\\delta t),\\left(X_0, X_{\\delta t}\\right) \\sim \\mathcal{D}}\\left[\\left\\|f_\\theta\\left(X_0, \\delta t\\right)-\\Delta_{\\delta t}\\right\\|_2^2\\right]\n",
    "$$\n",
    "\n",
    "$$\n",
    "\\mathcal{L}(\\theta)=\\mathbb{E}\\left[\\frac{1}{V H W} \\sum_{v=1}^V \\sum_{i=1}^H \\sum_{j=1}^W w(v) L(i)\\left(\\widehat{\\Delta}_{\\delta t}^{v i j}-\\Delta_{\\delta t}^{v i j}\\right)^2\\right]\n",
    "$$\n",
    "\n",
    "$$\n",
    "\\mathcal{L}(\\theta)=\\mathbb{E}\\left[\\frac{1}{V H W} \\sum_{v=1}^V \\sum_{i=1}^H \\sum_{j=1}^W w(v) L(i)\\left(\\widehat{\\Delta}_{\\delta t}^{v i j}-\\Delta_{\\delta t}^{v i j}\\right)^2\\right]\n",
    "$$\n",
    "\n",
    "$$\n",
    "\\mathcal{L}(\\theta)=\\mathbb{E}\\left[\\frac{1}{K V H W} \\sum_{k=1}^K \\sum_{v=1}^V \\sum_{i=1}^H \\sum_{j=1}^W w(v) L(i)\\left(\\widehat{\\Delta}_{k \\delta t}^{v i j}-\\Delta_{k \\delta t}^{v i j}\\right)^2\\right]\n",
    "$$\n"
   ]
  },
  {
   "cell_type": "markdown",
   "id": "e5dc5f00",
   "metadata": {},
   "source": [
    "### Stormer Architecture Stages"
   ]
  }
 ],
 "metadata": {
  "kernelspec": {
   "display_name": "Python3_Env",
   "language": "python",
   "name": "python3"
  },
  "language_info": {
   "name": "python",
   "version": "3.11.4"
  }
 },
 "nbformat": 4,
 "nbformat_minor": 5
}
