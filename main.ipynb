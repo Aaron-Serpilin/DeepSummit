{
 "cells": [
  {
   "cell_type": "markdown",
   "metadata": {},
   "source": [
    "# Deep Learning Framework for Predicting Himalayan Summit Success \n"
   ]
  },
  {
   "cell_type": "markdown",
   "metadata": {},
   "source": [
    "## 0. Setup\n",
    "\n",
    "The following section of the notebook covers all relevant imports required for the project. "
   ]
  },
  {
   "cell_type": "code",
   "execution_count": null,
   "metadata": {},
   "outputs": [],
   "source": [
    "# The following code is only for Google Collab whenever wanting to perform runs there\n",
    "# !git clone https://github.com/Aaron-Serpilin/DeepSummit.git\n",
    "# !pip install --upgrade pip\n",
    "# !pip install -e .\n",
    "# %cd DeepSummit\n",
    "# %ls"
   ]
  },
  {
   "cell_type": "code",
   "execution_count": 1,
   "metadata": {},
   "outputs": [
    {
     "name": "stdout",
     "output_type": "stream",
     "text": [
      "torch version: 2.6.0\n",
      "torchvision version: 0.21.0\n"
     ]
    },
    {
     "name": "stderr",
     "output_type": "stream",
     "text": [
      "/Users/aaronserpilin/anaconda3/envs/Python3_Env/lib/python3.11/site-packages/tqdm/auto.py:21: TqdmWarning: IProgress not found. Please update jupyter and ipywidgets. See https://ipywidgets.readthedocs.io/en/stable/user_install.html\n",
      "  from .autonotebook import tqdm as notebook_tqdm\n"
     ]
    },
    {
     "name": "stdout",
     "output_type": "stream",
     "text": [
      "mlextend version: 0.23.4\n"
     ]
    }
   ],
   "source": [
    "from torch import nn\n",
    "from torchvision import transforms\n",
    "\n",
    "try:\n",
    "    import torch\n",
    "    import torchvision\n",
    "    assert int(torch.__version__.split(\".\")[0]) >= 2, \"torch version should be 2.+\"\n",
    "    assert int(torchvision.__version__.split(\".\")[1]) >= 15, \"torchvision version should be 0.15+\"\n",
    "    print(f\"torch version: {torch.__version__}\")\n",
    "    print(f\"torchvision version: {torchvision.__version__}\")\n",
    "except:\n",
    "    print(f\"[INFO] torch/torchvision versions not correct. Installing correct versions.\")\n",
    "    !pip3 install -U torch torchvision torchaudio --extra-index-url https://download.pytorch.org/whl/cu113\n",
    "    import torch\n",
    "    import torchvision\n",
    "    print(f\"torch version: {torch.__version__}\")\n",
    "    print(f\"torchvision version: {torchvision.__version__}\")\n",
    "\n",
    "try:\n",
    "    import matplotlib.pyplot as plt\n",
    "except ImportError:\n",
    "    print(\"[INFO] Couldn't find matplotlib...installing it\")\n",
    "    !pip install -q matplotlib\n",
    "    import matplotlib.pyplot as plt\n",
    "\n",
    "try:\n",
    "    from torchinfo import summary\n",
    "except:\n",
    "    print(\"[INFO] Couldn't find torchinfo... installing it\")\n",
    "    !pip install -q torchinfo\n",
    "    from torchinfo import summary\n",
    "\n",
    "try:\n",
    "    from tqdm.auto import tqdm\n",
    "except:\n",
    "    print(f\"[INFO] Couldnt't find tqdm... installing it \")\n",
    "    !pip install tqdm\n",
    "    from tqdm.auto import tqdm\n",
    "\n",
    "try:\n",
    "    from torchinfo import summary\n",
    "except ImportError:\n",
    "    print(\"[INFO] Couldn't find torchinfo... installing it\")\n",
    "    !pip install -q torchinfo\n",
    "    from torchinfo import summary\n",
    "\n",
    "try:\n",
    "    from dbfread import DBF\n",
    "except ImportError:\n",
    "    print(\"[INFO] Coudln't find dbfread...installing it\")\n",
    "    !pip install -q dbfread\n",
    "    from dbfread import DBF\n",
    "\n",
    "\n",
    "try:\n",
    "    from torch.utils.tensorboard import SummaryWriter\n",
    "except:\n",
    "    print(\"[INFO] Couldn't find tensorboard... installing it.\")\n",
    "    !pip install -q tensorboard\n",
    "    from torch.utils.tensorboard import SummaryWriter\n",
    "\n",
    "try:\n",
    "    import torchmetrics, mlxtend\n",
    "    print(f\"mlextend version: {mlxtend.__version__}\")\n",
    "    assert int(mlxtend.__version__.split(\".\")[1]) >- 19\n",
    "except:\n",
    "    !pip install -q torchmetrics -U mlxtend\n",
    "    import torchmetrics, mlxtend\n",
    "    print(f\"mlextend version: {mlxtend.__version__}\")\n",
    "\n",
    "try:\n",
    "    import cdsapi\n",
    "except ImportError:\n",
    "    print(\"[INFO] Coudldn't find cdsapi...installing it.\")\n",
    "    !pip install -q cdsapi\n",
    "    import cdsapi\n",
    "\n",
    "try:\n",
    "    import pandas as pd\n",
    "except ImportError:\n",
    "    print(\"[INFO] Couldn't find pandas... installing it\")\n",
    "    !pip install -q pandas\n",
    "    import pandas as pd\n",
    "\n",
    "try:\n",
    "    from einops import rearrange, repeat\n",
    "except ImportError:\n",
    "    print(\"[INFO] Couldn't find einops... installing it\")\n",
    "    !pip install -q einops\n",
    "    from einops import rearrange, repeat\n",
    "\n",
    "try:\n",
    "    import pygrib\n",
    "except ImportError:\n",
    "    print(\"[INFO] Couldn't find pygrib... installing it\")\n",
    "    !pip install -q pygrib\n",
    "    import pygrib\n"
   ]
  },
  {
   "cell_type": "code",
   "execution_count": 2,
   "metadata": {},
   "outputs": [
    {
     "data": {
      "text/plain": [
       "'cpu'"
      ]
     },
     "execution_count": 2,
     "metadata": {},
     "output_type": "execute_result"
    }
   ],
   "source": [
    "device = \"cuda\" if torch.cuda.is_available() else \"cpu\"\n",
    "device"
   ]
  },
  {
   "cell_type": "markdown",
   "metadata": {},
   "source": [
    "## 1. Himalayan Data Setup\n",
    "\n",
    "The following section covers the retrieval and processing of the tabular data from the Himalayan Database that will use the SAINT architecture to carry out inference. The raw data was obtained through the `get_data.py` file. "
   ]
  },
  {
   "cell_type": "code",
   "execution_count": 3,
   "metadata": {},
   "outputs": [],
   "source": [
    "# We adjust the PYTHONPATH to keep absolute imports\n",
    "import sys\n",
    "sys.path.append(\"src\")"
   ]
  },
  {
   "cell_type": "code",
   "execution_count": 4,
   "metadata": {},
   "outputs": [],
   "source": [
    "from pathlib import Path\n",
    "\n",
    "himalayan_train_dir = Path(\"data/himalayas_data/train\")\n",
    "himalayan_val_dir = Path(\"data/himalayas_data/val\")\n",
    "himalayan_test_dir = Path(\"data/himalayas_data/test\")\n",
    "\n",
    "himalayan_train_file = himalayan_train_dir / \"train.csv\"\n",
    "himalayan_val_file = himalayan_val_dir / \"val.csv\"\n",
    "himalayan_test_file = himalayan_test_dir / \"test.csv\""
   ]
  },
  {
   "cell_type": "code",
   "execution_count": 5,
   "metadata": {},
   "outputs": [
    {
     "name": "stdout",
     "output_type": "stream",
     "text": [
      "First 10 rows:\n",
      "  SEX      CITIZEN      STATUS  MO2USED  MROUTE1  SEASON  O2USED  CALCAGE  \\\n",
      "0   M        Japan     Climber     True        1       3    True       49   \n",
      "1   M        Spain     Climber    False        1       3   False       54   \n",
      "2   F  Switzerland     Climber    False        1       3    True       25   \n",
      "3   M        Nepal  H-A Worker     True        1       1    True       31   \n",
      "4   M          USA     Climber     True        1       1    True       60   \n",
      "5   M      Bahrain     Climber    False        1       3    True       34   \n",
      "6   M        Chile     Climber     True        1       1    True       42   \n",
      "7   F        Japan      Leader     True        0       4    True       43   \n",
      "8   M        India     Climber     True        1       1    True       48   \n",
      "9   M      S Korea     Climber    False        0       3   False       29   \n",
      "\n",
      "   HEIGHTM  MDEATHS  HDEATHS  SMTMEMBERS  SMTHIRED  Target  \n",
      "0     8163        0        0          14        11       1  \n",
      "1     8163        0        0           1         1       0  \n",
      "2     8485        0        0           1         0       0  \n",
      "3     8849        0        0           0         9       1  \n",
      "4     8188        0        0           6         3       1  \n",
      "5     8163        0        0          13        43       1  \n",
      "6     8849        0        0           0         0       0  \n",
      "7     8849        0        0           0         0       0  \n",
      "8     8849        0        0           8        11       1  \n",
      "9     8188        0        0           5         1       0  \n",
      "First training instance:\n",
      "SEX                 M\n",
      "CITIZEN         Japan\n",
      "STATUS        Climber\n",
      "MO2USED          True\n",
      "MROUTE1             1\n",
      "SEASON              3\n",
      "O2USED           True\n",
      "CALCAGE            49\n",
      "HEIGHTM          8163\n",
      "MDEATHS             0\n",
      "HDEATHS             0\n",
      "SMTMEMBERS         14\n",
      "SMTHIRED           11\n",
      "Target              1\n",
      "Name: 0, dtype: object\n",
      "Instance shape:\n",
      "(14,)\n"
     ]
    }
   ],
   "source": [
    "df_train = pd.read_csv(himalayan_train_file)\n",
    "\n",
    "print(f\"First 10 rows:\\n{df_train.head(10)}\")\n",
    "print(f\"First training instance:\\n{df_train.iloc[0]}\")\n",
    "print(f\"Instance shape:\\n{df_train.iloc[0].shape}\")"
   ]
  },
  {
   "cell_type": "markdown",
   "metadata": {},
   "source": [
    "The `load_himalayan_data()` function defined within the `tab_data_setup` file transforms the raw data from .DBF to .csv, filters the relevant features, filters the relevant peaks, develops a data frame with this data, and then creates the corresponding train, val, and test splits by using the `create_dataloaders()` helper function."
   ]
  },
  {
   "cell_type": "code",
   "execution_count": 6,
   "metadata": {},
   "outputs": [
    {
     "name": "stdout",
     "output_type": "stream",
     "text": [
      "(53102, 19)\n",
      "<bound method NDFrame.head of            EXPID PEAKID MEMBID SEX  CALCAGE    CITIZEN         STATUS  \\\n",
      "5      ANN169101   ANN1     01   M       34  W Germany         Leader   \n",
      "6      ANN169101   ANN1     02   M       39  W Germany  Deputy Leader   \n",
      "7      ANN169101   ANN1     05   M       32  W Germany        Climber   \n",
      "8      ANN169101   ANN1     03   M       30  W Germany        Climber   \n",
      "9      ANN169101   ANN1     04   M       28  W Germany        Climber   \n",
      "...          ...    ...    ...  ..      ...        ...            ...   \n",
      "54325  MAKA24106   MAKA     02   F       35    Ukraine        Climber   \n",
      "54326  MAKA24106   MAKA     03   M       38      India        Climber   \n",
      "54327  MAKA24106   MAKA     04   M       39      India        Climber   \n",
      "54328  MAKA24106   MAKA     05   F       49      China        Climber   \n",
      "54329  MAKA24106   MAKA     06   M       27      Nepal     H-A Worker   \n",
      "\n",
      "       MO2USED  MROUTE1     SMTDATE  SEASON  SMTMEMBERS  SMTHIRED  MDEATHS  \\\n",
      "5        False        1  1969-05-09       1           0         0        0   \n",
      "6        False        1  1969-05-09       1           0         0        0   \n",
      "7        False        1  1969-05-09       1           0         0        0   \n",
      "8        False        1  1969-05-09       1           0         0        0   \n",
      "9        False        1  1969-05-09       1           0         0        0   \n",
      "...        ...      ...         ...     ...         ...       ...      ...   \n",
      "54325    False        0  2024-05-30       1           1         1        0   \n",
      "54326     True        1  2024-05-30       1           1         1        0   \n",
      "54327    False        0  2024-05-30       1           1         1        0   \n",
      "54328    False        0  2024-05-30       1           1         1        0   \n",
      "54329     True        1  2024-05-30       1           1         1        0   \n",
      "\n",
      "       HDEATHS  O2USED       PKNAME  HEIGHTM  Target  \n",
      "5            0   False  Annapurna I     8091       0  \n",
      "6            0   False  Annapurna I     8091       0  \n",
      "7            0   False  Annapurna I     8091       0  \n",
      "8            0   False  Annapurna I     8091       0  \n",
      "9            0   False  Annapurna I     8091       0  \n",
      "...        ...     ...          ...      ...     ...  \n",
      "54325        0    True       Makalu     8485       0  \n",
      "54326        0    True       Makalu     8485       1  \n",
      "54327        0    True       Makalu     8485       0  \n",
      "54328        0    True       Makalu     8485       0  \n",
      "54329        0    True       Makalu     8485       1  \n",
      "\n",
      "[53102 rows x 19 columns]>\n"
     ]
    }
   ],
   "source": [
    "from src.tab_transformer.tab_data_setup import load_himalayas_data\n",
    "\n",
    "tab_df = load_himalayas_data(do_prepare=True, do_finalize=True)\n",
    "output_path = Path('data/himalayas_data')\n",
    "output_file = output_path / \"himalayas_data.csv\"\n",
    "tab_df.to_csv(output_file, index=False)\n",
    "\n",
    "print(tab_df.shape)\n",
    "print(tab_df.head)"
   ]
  },
  {
   "cell_type": "code",
   "execution_count": 10,
   "metadata": {},
   "outputs": [
    {
     "name": "stdout",
     "output_type": "stream",
     "text": [
      "[INFO] Data splits already exist under data/himalayas_data. Skipping split.\n"
     ]
    },
    {
     "data": {
      "text/plain": [
       "(<torch.utils.data.dataloader.DataLoader at 0x16c631690>,\n",
       " <torch.utils.data.dataloader.DataLoader at 0x168cf1090>,\n",
       " <torch.utils.data.dataloader.DataLoader at 0x16c666e10>)"
      ]
     },
     "execution_count": 10,
     "metadata": {},
     "output_type": "execute_result"
    }
   ],
   "source": [
    "import os\n",
    "from pathlib import Path\n",
    "from src.helper_functions import set_seeds, set_data_splits, create_dataloaders\n",
    "from src.tab_transformer.tab_utils import TabularDataset\n",
    "\n",
    "set_seeds(42)\n",
    "\n",
    "splits_path = Path(\"data/himalayas_data\")\n",
    "tab_csv = splits_path / \"himalayas_data.csv\"\n",
    "tab_df = pd.read_csv(tab_csv, parse_dates=[\"SMTDATE\"])\n",
    "\n",
    "categorical_columns = ['SEX', 'CITIZEN', 'STATUS', 'MO2USED', 'MROUTE1', 'SEASON', 'O2USED']\n",
    "continuous_columns = ['CALCAGE', 'HEIGHTM', 'MDEATHS', 'HDEATHS', 'SMTMEMBERS', 'SMTHIRED']\n",
    "feature_columns = categorical_columns + continuous_columns\n",
    "\n",
    "X = tab_df[feature_columns]\n",
    "y = tab_df[\"Target\"]\n",
    "\n",
    "set_data_splits(X, y, splits_path, seed=42)\n",
    "\n",
    "continuous_means = [tab_df[col].mean() for col in continuous_columns]\n",
    "continuous_stds = [tab_df[col].std() for col in continuous_columns]\n",
    "continuous_mean_std = list(zip(continuous_means, continuous_stds))\n",
    "\n",
    "train_dataloader, val_dataloader, test_dataloader = create_dataloaders(\n",
    "        dataset_class=TabularDataset,\n",
    "        train_file=splits_path / \"train\" / \"train.csv\",\n",
    "        val_file=splits_path / \"val\" / \"val.csv\",\n",
    "        test_file=splits_path / \"test\" / \"test.csv\",\n",
    "        num_workers=os.cpu_count(),\n",
    "        batch_size=32,\n",
    "        dataset_kwargs={\n",
    "            'target_column': 'Target',\n",
    "            'cat_cols': categorical_columns,\n",
    "            'continuous_mean_std': continuous_mean_std,\n",
    "        }\n",
    "    )\n",
    "\n",
    "train_dataloader, val_dataloader, test_dataloader"
   ]
  },
  {
   "cell_type": "markdown",
   "metadata": {},
   "source": [
    "## 2. SAINT Model instantiation\n",
    "\n",
    "The following section instantiates the SAINT model architecture based on the hyperparameter selection defined in the relevant paper. This is broken down in the `tab_breakdown.ipynb` file where the core equations and backbone of the architecture is explained. "
   ]
  },
  {
   "cell_type": "code",
   "execution_count": 7,
   "metadata": {},
   "outputs": [
    {
     "name": "stdout",
     "output_type": "stream",
     "text": [
      "Categorical instance: tensor([  0,   1, 147,  60,   0,   1,   2,   0])\n",
      "Categorical instance shape: torch.Size([8])\n",
      "\n",
      "Continuous instance: tensor([ 0.2272, -1.1185, -0.2801, -0.1664, -0.8072, -0.6175])\n",
      "Continuous instance shape: torch.Size([6])\n",
      "\n",
      "Label instance: 0\n",
      "Label instance shape: torch.Size([])\n",
      "\n"
     ]
    }
   ],
   "source": [
    "cat_batch, cont_batch, label_batch, cat_mask_batch, cont_mask_batch = next(iter(train_dataloader))\n",
    "\n",
    "# First instance\n",
    "cat_instance = cat_batch[0]\n",
    "cont_instance = cont_batch[0]\n",
    "label_instance = label_batch[0]\n",
    "\n",
    "print(f\"Categorical instance: {cat_instance}\\nCategorical instance shape: {cat_instance.shape}\\n\")\n",
    "print(f\"Continuous instance: {cont_instance}\\nContinuous instance shape: {cont_instance.shape}\\n\")\n",
    "print(f\"Label instance: {label_instance}\\nLabel instance shape: {label_instance.shape}\\n\")"
   ]
  },
  {
   "cell_type": "code",
   "execution_count": null,
   "metadata": {},
   "outputs": [],
   "source": [
    "from src.tab_transformer.tab_model import SAINT\n",
    "import numpy as np\n",
    "\n",
    "categorical_columns = ['SEX', 'CITIZEN', 'STATUS', 'MO2USED', 'MROUTE1', 'SEASON', 'O2USED']\n",
    "continuous_columns = ['CALCAGE', 'HEIGHTM', 'MDEATHS', 'HDEATHS', 'SMTMEMBERS', 'SMTHIRED']\n",
    "\n",
    "# Returns the amount of unique values per categorical column\n",
    "cat_dims = [len(np.unique(df_train[col])) for col in categorical_columns]\n",
    "\n",
    "# Hyperparameter selection based on default original architecture instantiation\n",
    "saint = SAINT(\n",
    "    categories = tuple(cat_dims), \n",
    "    num_continuous = len(continuous_columns),                \n",
    "    dim = 32,                           \n",
    "    dim_out = 1,                       \n",
    "    depth = 6,                       \n",
    "    heads = 8,  \n",
    "    num_special_tokens=1,                      \n",
    "    attn_dropout = 0.1,             \n",
    "    ff_dropout = 0.1,                  \n",
    "    mlp_hidden_mults = (4, 2),       \n",
    "    cont_embeddings = 'MLP',\n",
    "    attentiontype = 'colrow',\n",
    "    final_mlp_style = 'sep',\n",
    "    y_dim = 2 # Binary classification\n",
    ")\n",
    "\n",
    "saint.to(device)"
   ]
  },
  {
   "cell_type": "markdown",
   "metadata": {},
   "source": [
    "## 3. SAINT Model Training\n",
    "\n",
    "The following section trains the SAINT model with the `TabularDataset` class while saving the corresponding files in the `runs` directory using the `SummaryWriter()` setup."
   ]
  },
  {
   "cell_type": "code",
   "execution_count": 10,
   "metadata": {},
   "outputs": [
    {
     "data": {
      "text/plain": [
       "(0.0005769020462610636, 0.9054718875502008)"
      ]
     },
     "execution_count": 10,
     "metadata": {},
     "output_type": "execute_result"
    }
   ],
   "source": [
    "from src.tab_transformer.tab_train import train_step, test_step\n",
    "\n",
    "loss_fn = nn.CrossEntropyLoss().to(device)\n",
    "optimizer = torch.optim.AdamW(saint.parameters(),lr=0.0001, betas=(0.9, 0.999), weight_decay=0.01)\n",
    "\n",
    "train_step(model=saint,\n",
    "           dataloader=train_dataloader,\n",
    "           loss_fn=loss_fn,\n",
    "           optimizer=optimizer,\n",
    "           device=device\n",
    ")\n",
    "\n",
    "val_step = test_step(model=saint,\n",
    "                     dataloader=val_dataloader,\n",
    "                     loss_fn=loss_fn,\n",
    "                     device=device)\n",
    "\n",
    "val_step"
   ]
  },
  {
   "cell_type": "code",
   "execution_count": null,
   "metadata": {},
   "outputs": [],
   "source": [
    "writer = SummaryWriter()"
   ]
  },
  {
   "cell_type": "code",
   "execution_count": null,
   "metadata": {},
   "outputs": [
    {
     "name": "stdout",
     "output_type": "stream",
     "text": [
      "[INFO] Created SummaryWriter, saving to: runs/2025-05-20--13:22:21/first_run/saint\n"
     ]
    },
    {
     "name": "stderr",
     "output_type": "stream",
     "text": [
      "  0%|          | 0/10 [00:00<?, ?it/s]"
     ]
    },
    {
     "name": "stderr",
     "output_type": "stream",
     "text": [
      " 10%|█         | 1/10 [04:53<44:03, 293.68s/it]"
     ]
    },
    {
     "name": "stdout",
     "output_type": "stream",
     "text": [
      "Epoch: 1 | train_loss: 0.1896 | train_acc: 0.9240 | val_loss: 0.0005 | val_acc: 0.9119 | test_loss: 0.0008 | test_acc: 0.9175\n"
     ]
    },
    {
     "name": "stderr",
     "output_type": "stream",
     "text": [
      " 20%|██        | 2/10 [09:53<39:39, 297.40s/it]"
     ]
    },
    {
     "name": "stdout",
     "output_type": "stream",
     "text": [
      "Epoch: 2 | train_loss: 0.1838 | train_acc: 0.9259 | val_loss: 0.0005 | val_acc: 0.9130 | test_loss: 0.0008 | test_acc: 0.9155\n"
     ]
    },
    {
     "name": "stderr",
     "output_type": "stream",
     "text": [
      " 30%|███       | 3/10 [15:05<35:27, 303.96s/it]"
     ]
    },
    {
     "name": "stdout",
     "output_type": "stream",
     "text": [
      "Epoch: 3 | train_loss: 0.1840 | train_acc: 0.9262 | val_loss: 0.0006 | val_acc: 0.9096 | test_loss: 0.0009 | test_acc: 0.9166\n"
     ]
    },
    {
     "name": "stderr",
     "output_type": "stream",
     "text": [
      " 40%|████      | 4/10 [19:53<29:45, 297.53s/it]"
     ]
    },
    {
     "name": "stdout",
     "output_type": "stream",
     "text": [
      "Epoch: 4 | train_loss: 0.1785 | train_acc: 0.9300 | val_loss: 0.0006 | val_acc: 0.8979 | test_loss: 0.0010 | test_acc: 0.9051\n"
     ]
    },
    {
     "name": "stderr",
     "output_type": "stream",
     "text": [
      " 50%|█████     | 5/10 [24:43<24:35, 295.08s/it]"
     ]
    },
    {
     "name": "stdout",
     "output_type": "stream",
     "text": [
      "Epoch: 5 | train_loss: 0.1757 | train_acc: 0.9298 | val_loss: 0.0008 | val_acc: 0.9132 | test_loss: 0.0010 | test_acc: 0.9168\n"
     ]
    },
    {
     "name": "stderr",
     "output_type": "stream",
     "text": [
      " 60%|██████    | 6/10 [29:10<19:01, 285.43s/it]"
     ]
    },
    {
     "name": "stdout",
     "output_type": "stream",
     "text": [
      "Epoch: 6 | train_loss: 0.1746 | train_acc: 0.9300 | val_loss: 0.0006 | val_acc: 0.9130 | test_loss: 0.0009 | test_acc: 0.9130\n"
     ]
    },
    {
     "name": "stderr",
     "output_type": "stream",
     "text": [
      " 70%|███████   | 7/10 [33:36<13:57, 279.07s/it]"
     ]
    },
    {
     "name": "stdout",
     "output_type": "stream",
     "text": [
      "Epoch: 7 | train_loss: 0.1715 | train_acc: 0.9317 | val_loss: 0.0005 | val_acc: 0.9083 | test_loss: 0.0009 | test_acc: 0.9100\n"
     ]
    },
    {
     "name": "stderr",
     "output_type": "stream",
     "text": [
      " 80%|████████  | 8/10 [38:03<09:10, 275.31s/it]"
     ]
    },
    {
     "name": "stdout",
     "output_type": "stream",
     "text": [
      "Epoch: 8 | train_loss: 0.1656 | train_acc: 0.9335 | val_loss: 0.0006 | val_acc: 0.9034 | test_loss: 0.0009 | test_acc: 0.9015\n"
     ]
    },
    {
     "name": "stderr",
     "output_type": "stream",
     "text": [
      " 90%|█████████ | 9/10 [42:38<04:35, 275.28s/it]"
     ]
    },
    {
     "name": "stdout",
     "output_type": "stream",
     "text": [
      "Epoch: 9 | train_loss: 0.1631 | train_acc: 0.9344 | val_loss: 0.0003 | val_acc: 0.9083 | test_loss: 0.0012 | test_acc: 0.9013\n"
     ]
    },
    {
     "name": "stderr",
     "output_type": "stream",
     "text": [
      "100%|██████████| 10/10 [47:16<00:00, 283.61s/it]"
     ]
    },
    {
     "name": "stdout",
     "output_type": "stream",
     "text": [
      "Epoch: 10 | train_loss: 0.1607 | train_acc: 0.9348 | val_loss: 0.0002 | val_acc: 0.9136 | test_loss: 0.0010 | test_acc: 0.9104\n",
      "CPU times: user 1h 37min 20s, sys: 27min 35s, total: 2h 4min 56s\n",
      "Wall time: 47min 16s\n"
     ]
    },
    {
     "name": "stderr",
     "output_type": "stream",
     "text": [
      "\n"
     ]
    }
   ],
   "source": [
    "%%time\n",
    "from helper_functions import set_seeds\n",
    "from src.tab_transformer.tab_train import train\n",
    "from helper_functions import create_writer\n",
    "\n",
    "set_seeds(42)\n",
    "\n",
    "\n",
    "results = train(model=saint,\n",
    "      train_dataloader=train_dataloader,\n",
    "      val_dataloader=val_dataloader,\n",
    "      test_dataloader=test_dataloader,\n",
    "      optimizer=optimizer,\n",
    "      loss_fn=loss_fn,\n",
    "      epochs=10,\n",
    "      writer=create_writer(experiment_name=\"first_run\",\n",
    "                                   model_name=\"saint\")\n",
    ")"
   ]
  },
  {
   "cell_type": "markdown",
   "metadata": {},
   "source": [
    "With a `test_acc` of ~91%, the SAINT Model architecture achieves better results than the benchmark Regression model from the Julia project. Therefore, prior to fine tuning the model, and without the incorporation of contextual meteorological data, the model already has a better performance than the baseline. "
   ]
  },
  {
   "cell_type": "code",
   "execution_count": 14,
   "metadata": {},
   "outputs": [
    {
     "data": {
      "image/png": "[encoded data removed]",
      "text/plain": [
       "<Figure size 1500x700 with 2 Axes>"
      ]
     },
     "metadata": {},
     "output_type": "display_data"
    }
   ],
   "source": [
    "from helper_functions import plot_loss_curves\n",
    "\n",
    "plot_loss_curves(results)"
   ]
  },
  {
   "cell_type": "markdown",
   "metadata": {},
   "source": [
    "## 4. Era5 Data Setup\n",
    "\n",
    "The following section covers the data preparation of the era5 dataset. The raw data was obtained through the `get_data.py` file. "
   ]
  },
  {
   "cell_type": "markdown",
   "metadata": {},
   "source": [
    "The entire data setup from the era5 dataset is condensed into the `load_era5_data` function, which does multiple things. \n",
    "\n",
    "Firstly, it uses`file_to_grib()` to convert all the raw era5 files into .grib files, which facilitate it for processing afterwards. \n",
    "\n",
    "This is followed by `get_variable_mapping()` which obtains the corresponding mapping of the internal grib abbreviations and the actual features from the era5 dataset. This is used to then filter out the desired features when we transform the .grib file into a .csv file. \n",
    "\n",
    "For convenience, we can run `get_variable_mapping()` each time, but in this study case the mapping doesn't change every time. Therefore, we can store the result of the first run in a variable and then merely refer to it, which saves up ~3 minutes of runtime.  \n",
    "\n",
    "This mapping is this passed as a parameter to `process_grib_to_csv()` to filter out the desired features and convert the .grib files to .csv, storing them in `data/era5_data/instances/raw_instances`.\n",
    "\n",
    "Afterwards, due to the API request limitations, the original requests in `get_data.py` were done in batches of 5 years, leading to each mountain to have 17 different weather data files. Therefore, in order to condense them, we then use `merge_daily_instances()` which condenses all of these files into a single .csv file in `data/era5_data/instances/merged_instances`. \n",
    "\n",
    "The final step of the function is to then use `build_event_instances()` to create the final ML table by the weather and tabular data are matched based on their `date` and `peakid`. It then creates the instances with the target variable from the tabular dataset, and also adds the relevant 7-day context window to analyze the weather trends that affect summit probabilities. "
   ]
  },
  {
   "cell_type": "code",
   "execution_count": 5,
   "metadata": {},
   "outputs": [
    {
     "name": "stdout",
     "output_type": "stream",
     "text": [
      "[Skipping] Incomplete window for KANG on 1929-05-27 00:00:00: 0 days\n",
      "[Skipping] Incomplete window for MAKA on 1990-05-18 00:00:00: 0 days\n",
      "[Skipping] Incomplete window for MAKA on 1990-05-18 00:00:00: 0 days\n",
      "[Skipping] Incomplete window for MAKA on 1990-05-18 00:00:00: 0 days\n",
      "[Skipping] Incomplete window for MAKA on 1990-05-18 00:00:00: 0 days\n",
      "[Skipping] Incomplete window for MAKA on 1990-05-18 00:00:00: 0 days\n",
      "[Skipping] Incomplete window for MAKA on 1990-05-18 00:00:00: 0 days\n",
      "[Skipping] Incomplete window for MAKA on 1990-05-06 00:00:00: 0 days\n",
      "[Skipping] Incomplete window for MAKA on 1990-05-06 00:00:00: 0 days\n",
      "[Skipping] Incomplete window for MAKA on 1990-05-06 00:00:00: 0 days\n",
      "[Skipping] Incomplete window for MAKA on 1990-05-06 00:00:00: 0 days\n",
      "[Skipping] Incomplete window for MAKA on 1990-05-06 00:00:00: 0 days\n",
      "[Skipping] Incomplete window for MAKA on 1990-05-06 00:00:00: 0 days\n",
      "[Skipping] Incomplete window for MAKA on 1990-06-11 00:00:00: 0 days\n",
      "[Skipping] Incomplete window for MAKA on 1990-06-11 00:00:00: 0 days\n",
      "[Skipping] Incomplete window for MAKA on 1990-06-11 00:00:00: 0 days\n",
      "[Skipping] Incomplete window for MAKA on 1990-06-11 00:00:00: 0 days\n",
      "[Skipping] Incomplete window for MAKA on 1990-06-11 00:00:00: 0 days\n",
      "[Skipping] Incomplete window for MAKA on 1990-06-11 00:00:00: 0 days\n",
      "[Skipping] Incomplete window for MAKA on 1990-06-11 00:00:00: 0 days\n",
      "[Skipping] Incomplete window for MAKA on 1990-06-11 00:00:00: 0 days\n",
      "[Skipping] Incomplete window for MAKA on 1990-06-11 00:00:00: 0 days\n",
      "[Skipping] Incomplete window for MAKA on 1990-06-11 00:00:00: 0 days\n",
      "[Skipping] Incomplete window for MAKA on 1990-09-29 00:00:00: 0 days\n",
      "[Skipping] Incomplete window for MAKA on 1990-10-03 00:00:00: 0 days\n",
      "[Skipping] Incomplete window for MAKA on 1990-10-03 00:00:00: 0 days\n",
      "[Skipping] Incomplete window for MAKA on 1990-10-03 00:00:00: 0 days\n",
      "[Skipping] Incomplete window for MAKA on 1990-10-03 00:00:00: 0 days\n",
      "[Skipping] Incomplete window for MAKA on 1990-10-03 00:00:00: 0 days\n",
      "[Skipping] Incomplete window for MAKA on 1990-10-03 00:00:00: 0 days\n",
      "[Skipping] Incomplete window for MAKA on 1990-10-03 00:00:00: 0 days\n",
      "[Skipping] Incomplete window for MAKA on 1990-10-03 00:00:00: 0 days\n",
      "[Skipping] Incomplete window for MAKA on 1990-10-03 00:00:00: 0 days\n",
      "[Skipping] Incomplete window for MAKA on 1990-10-03 00:00:00: 0 days\n",
      "[Skipping] Incomplete window for MAKA on 1990-10-03 00:00:00: 0 days\n",
      "[Skipping] Incomplete window for MAKA on 1990-10-03 00:00:00: 0 days\n",
      "[Skipping] Incomplete window for MAKA on 1990-10-03 00:00:00: 0 days\n",
      "[Skipping] Incomplete window for MAKA on 1990-10-03 00:00:00: 0 days\n",
      "[Skipping] Incomplete window for MAKA on 1990-10-03 00:00:00: 0 days\n",
      "[Skipping] Incomplete window for MAKA on 1990-09-26 00:00:00: 0 days\n",
      "[Skipping] Incomplete window for MAKA on 1990-09-26 00:00:00: 0 days\n",
      "[Skipping] Incomplete window for MAKA on 1990-09-26 00:00:00: 0 days\n",
      "[Skipping] Incomplete window for MAKA on 1990-09-26 00:00:00: 0 days\n",
      "[Skipping] Incomplete window for MAKA on 1990-09-26 00:00:00: 0 days\n",
      "[Skipping] Incomplete window for MAKA on 1990-09-26 00:00:00: 0 days\n",
      "[Skipping] Incomplete window for MAKA on 1990-09-26 00:00:00: 0 days\n",
      "[Skipping] Incomplete window for MAKA on 1990-09-26 00:00:00: 0 days\n",
      "[Skipping] Incomplete window for MAKA on 1990-11-08 00:00:00: 0 days\n",
      "[Skipping] Incomplete window for MAKA on 1990-11-08 00:00:00: 0 days\n",
      "[Skipping] Incomplete window for MAKA on 1990-11-08 00:00:00: 0 days\n",
      "[Skipping] Incomplete window for MAKA on 1990-10-06 00:00:00: 0 days\n",
      "[Skipping] Incomplete window for MAKA on 1990-10-06 00:00:00: 0 days\n",
      "[Skipping] Incomplete window for MAKA on 1990-10-06 00:00:00: 0 days\n",
      "[Skipping] Incomplete window for MAKA on 1990-10-06 00:00:00: 0 days\n",
      "[Skipping] Incomplete window for MAKA on 1990-10-06 00:00:00: 0 days\n",
      "[Skipping] Incomplete window for MAKA on 1990-10-06 00:00:00: 0 days\n",
      "[Skipping] Incomplete window for MAKA on 1990-10-06 00:00:00: 0 days\n",
      "[Skipping] Incomplete window for MAKA on 1990-10-06 00:00:00: 0 days\n",
      "[Skipping] Incomplete window for MAKA on 1990-10-06 00:00:00: 0 days\n",
      "[Skipping] Incomplete window for MAKA on 1990-10-17 00:00:00: 0 days\n",
      "[Skipping] Incomplete window for MAKA on 1990-10-17 00:00:00: 0 days\n",
      "[Skipping] Incomplete window for MAKA on 1990-10-17 00:00:00: 0 days\n",
      "[Skipping] Incomplete window for MAKA on 1990-10-17 00:00:00: 0 days\n",
      "[Skipping] Incomplete window for MAKA on 1990-10-17 00:00:00: 0 days\n",
      "[Skipping] Incomplete window for MAKA on 1990-10-17 00:00:00: 0 days\n",
      "[Skipping] Incomplete window for MAKA on 1990-10-17 00:00:00: 0 days\n",
      "[Skipping] Incomplete window for MAKA on 1990-10-17 00:00:00: 0 days\n",
      "[Skipping] Incomplete window for MAKA on 1990-10-17 00:00:00: 0 days\n",
      "[Skipping] Incomplete window for MAKA on 1990-10-17 00:00:00: 0 days\n",
      "[Skipping] Incomplete window for MAKA on 1990-10-17 00:00:00: 0 days\n",
      "[Skipping] Incomplete window for MAKA on 1990-12-20 00:00:00: 0 days\n",
      "[Skipping] Incomplete window for MAKA on 1990-12-20 00:00:00: 0 days\n",
      "[Skipping] Incomplete window for MAKA on 1990-12-20 00:00:00: 0 days\n",
      "[Skipping] Incomplete window for MAKA on 1990-12-20 00:00:00: 0 days\n",
      "[Skipping] Incomplete window for MAKA on 1991-04-28 00:00:00: 0 days\n",
      "[Skipping] Incomplete window for MAKA on 1991-05-07 00:00:00: 0 days\n",
      "[Skipping] Incomplete window for MAKA on 1991-05-07 00:00:00: 0 days\n",
      "[Skipping] Incomplete window for MAKA on 1991-05-07 00:00:00: 0 days\n",
      "[Skipping] Incomplete window for MAKA on 1991-05-07 00:00:00: 0 days\n",
      "[Skipping] Incomplete window for MAKA on 1991-05-07 00:00:00: 0 days\n",
      "[Skipping] Incomplete window for MAKA on 1991-05-07 00:00:00: 0 days\n",
      "[Skipping] Incomplete window for MAKA on 1991-05-07 00:00:00: 0 days\n",
      "[Skipping] Incomplete window for MAKA on 1991-04-27 00:00:00: 0 days\n",
      "[Skipping] Incomplete window for MAKA on 1991-04-27 00:00:00: 0 days\n",
      "[Skipping] Incomplete window for MAKA on 1991-04-27 00:00:00: 0 days\n",
      "[Skipping] Incomplete window for MAKA on 1991-04-27 00:00:00: 0 days\n",
      "[Skipping] Incomplete window for MAKA on 1991-04-27 00:00:00: 0 days\n",
      "[Skipping] Incomplete window for MAKA on 1991-04-27 00:00:00: 0 days\n",
      "[Skipping] Incomplete window for MAKA on 1991-10-02 00:00:00: 0 days\n",
      "[Skipping] Incomplete window for MAKA on 1991-10-02 00:00:00: 0 days\n",
      "[Skipping] Incomplete window for MAKA on 1991-10-02 00:00:00: 0 days\n",
      "[Skipping] Incomplete window for MAKA on 1991-10-02 00:00:00: 0 days\n",
      "[Skipping] Incomplete window for MAKA on 1991-10-02 00:00:00: 0 days\n",
      "[Skipping] Incomplete window for MAKA on 1991-09-30 00:00:00: 0 days\n",
      "[Skipping] Incomplete window for MAKA on 1991-09-30 00:00:00: 0 days\n",
      "[Skipping] Incomplete window for MAKA on 1991-09-30 00:00:00: 0 days\n",
      "[Skipping] Incomplete window for MAKA on 1991-09-30 00:00:00: 0 days\n",
      "[Skipping] Incomplete window for MAKA on 1991-09-30 00:00:00: 0 days\n",
      "[Skipping] Incomplete window for MAKA on 1991-09-30 00:00:00: 0 days\n",
      "[Skipping] Incomplete window for MAKA on 1991-09-24 00:00:00: 0 days\n",
      "[Skipping] Incomplete window for MAKA on 1991-09-24 00:00:00: 0 days\n",
      "[Skipping] Incomplete window for MAKA on 1991-09-24 00:00:00: 0 days\n",
      "[Skipping] Incomplete window for MAKA on 1991-09-24 00:00:00: 0 days\n",
      "[Skipping] Incomplete window for MAKA on 1991-09-24 00:00:00: 0 days\n",
      "[Skipping] Incomplete window for MAKA on 1991-09-24 00:00:00: 0 days\n",
      "[Skipping] Incomplete window for MAKA on 1991-09-24 00:00:00: 0 days\n",
      "[Skipping] Incomplete window for MAKA on 1991-09-24 00:00:00: 0 days\n",
      "[Skipping] Incomplete window for MAKA on 1991-09-24 00:00:00: 0 days\n",
      "[Skipping] Incomplete window for MAKA on 1991-09-24 00:00:00: 0 days\n",
      "[Skipping] Incomplete window for MAKA on 1991-09-24 00:00:00: 0 days\n",
      "[Skipping] Incomplete window for MAKA on 1991-09-24 00:00:00: 0 days\n",
      "[Skipping] Incomplete window for MAKA on 1991-10-02 00:00:00: 0 days\n",
      "[Skipping] Incomplete window for MAKA on 1991-10-02 00:00:00: 0 days\n",
      "[Skipping] Incomplete window for MAKA on 1991-10-05 00:00:00: 0 days\n",
      "[Skipping] Incomplete window for MAKA on 1991-10-05 00:00:00: 0 days\n",
      "[Skipping] Incomplete window for MAKA on 1991-10-05 00:00:00: 0 days\n",
      "[Skipping] Incomplete window for MAKA on 1991-10-05 00:00:00: 0 days\n",
      "[Skipping] Incomplete window for MAKA on 1991-10-05 00:00:00: 0 days\n",
      "[Skipping] Incomplete window for MAKA on 1991-10-05 00:00:00: 0 days\n",
      "[Skipping] Incomplete window for MAKA on 1992-05-14 00:00:00: 0 days\n",
      "[Skipping] Incomplete window for MAKA on 1992-05-14 00:00:00: 0 days\n",
      "[Skipping] Incomplete window for MAKA on 1992-05-14 00:00:00: 0 days\n",
      "[Skipping] Incomplete window for MAKA on 1992-05-14 00:00:00: 0 days\n",
      "[Skipping] Incomplete window for MAKA on 1992-05-14 00:00:00: 0 days\n",
      "[Skipping] Incomplete window for MAKA on 1992-05-14 00:00:00: 0 days\n",
      "[Skipping] Incomplete window for MAKA on 1992-05-14 00:00:00: 0 days\n",
      "[Skipping] Incomplete window for MAKA on 1992-05-14 00:00:00: 0 days\n",
      "[Skipping] Incomplete window for MAKA on 1992-05-14 00:00:00: 0 days\n",
      "[Skipping] Incomplete window for MAKA on 1992-05-14 00:00:00: 0 days\n",
      "[Skipping] Incomplete window for MAKA on 1992-05-14 00:00:00: 0 days\n",
      "[Skipping] Incomplete window for MAKA on 1992-05-14 00:00:00: 0 days\n",
      "[Skipping] Incomplete window for MAKA on 1992-05-14 00:00:00: 0 days\n",
      "[Skipping] Incomplete window for MAKA on 1992-05-14 00:00:00: 0 days\n",
      "[Skipping] Incomplete window for MAKA on 1992-05-14 00:00:00: 0 days\n",
      "[Skipping] Incomplete window for MAKA on 1992-05-14 00:00:00: 0 days\n",
      "[Skipping] Incomplete window for MAKA on 1992-05-14 00:00:00: 0 days\n",
      "[Skipping] Incomplete window for MAKA on 1992-05-17 00:00:00: 0 days\n",
      "[Skipping] Incomplete window for MAKA on 1992-05-17 00:00:00: 0 days\n",
      "[Skipping] Incomplete window for MAKA on 1992-05-17 00:00:00: 0 days\n",
      "[Skipping] Incomplete window for MAKA on 1992-05-17 00:00:00: 0 days\n",
      "[Skipping] Incomplete window for MAKA on 1992-05-17 00:00:00: 0 days\n",
      "[Skipping] Incomplete window for MAKA on 1992-05-17 00:00:00: 0 days\n",
      "[Skipping] Incomplete window for MAKA on 1992-05-17 00:00:00: 0 days\n",
      "[Skipping] Incomplete window for MAKA on 1992-05-17 00:00:00: 0 days\n",
      "[Skipping] Incomplete window for MAKA on 1992-10-02 00:00:00: 0 days\n",
      "[Skipping] Incomplete window for MAKA on 1992-10-02 00:00:00: 0 days\n",
      "[Skipping] Incomplete window for MAKA on 1992-10-02 00:00:00: 0 days\n",
      "[Skipping] Incomplete window for MAKA on 1992-10-02 00:00:00: 0 days\n",
      "[Skipping] Incomplete window for MAKA on 1992-09-20 00:00:00: 0 days\n",
      "[Skipping] Incomplete window for MAKA on 1992-09-20 00:00:00: 0 days\n",
      "[Skipping] Incomplete window for MAKA on 1992-09-20 00:00:00: 0 days\n",
      "[Skipping] Incomplete window for MAKA on 1992-09-29 00:00:00: 0 days\n",
      "[Skipping] Incomplete window for MAKA on 1992-09-29 00:00:00: 0 days\n",
      "[Skipping] Incomplete window for MAKA on 1992-09-29 00:00:00: 0 days\n",
      "[Skipping] Incomplete window for MAKA on 1992-09-29 00:00:00: 0 days\n",
      "[Skipping] Incomplete window for MAKA on 1992-09-29 00:00:00: 0 days\n",
      "[Skipping] Incomplete window for MAKA on 1992-09-29 00:00:00: 0 days\n",
      "[Skipping] Incomplete window for MAKA on 1992-09-29 00:00:00: 0 days\n",
      "[Skipping] Incomplete window for MAKA on 1992-09-29 00:00:00: 0 days\n",
      "[Skipping] Incomplete window for MAKA on 1992-09-29 00:00:00: 0 days\n",
      "[Skipping] Incomplete window for MAKA on 1992-09-29 00:00:00: 0 days\n",
      "[Skipping] Incomplete window for MAKA on 1992-09-29 00:00:00: 0 days\n",
      "[Skipping] Incomplete window for MAKA on 1992-09-29 00:00:00: 0 days\n",
      "[Skipping] Incomplete window for MAKA on 1992-10-07 00:00:00: 0 days\n",
      "[Skipping] Incomplete window for MAKA on 1992-10-07 00:00:00: 0 days\n",
      "[Skipping] Incomplete window for MAKA on 1992-10-07 00:00:00: 0 days\n",
      "[Skipping] Incomplete window for MAKA on 1992-10-07 00:00:00: 0 days\n",
      "[Skipping] Incomplete window for MAKA on 1993-05-22 00:00:00: 0 days\n",
      "[Skipping] Incomplete window for MAKA on 1993-05-22 00:00:00: 0 days\n",
      "[Skipping] Incomplete window for MAKA on 1993-05-22 00:00:00: 0 days\n",
      "[Skipping] Incomplete window for MAKA on 1993-05-22 00:00:00: 0 days\n",
      "[Skipping] Incomplete window for MAKA on 1993-05-22 00:00:00: 0 days\n",
      "[Skipping] Incomplete window for MAKA on 1993-05-22 00:00:00: 0 days\n",
      "[Skipping] Incomplete window for MAKA on 1993-05-22 00:00:00: 0 days\n",
      "[Skipping] Incomplete window for MAKA on 1993-05-22 00:00:00: 0 days\n",
      "[Skipping] Incomplete window for MAKA on 1993-05-22 00:00:00: 0 days\n",
      "[Skipping] Incomplete window for MAKA on 1993-05-22 00:00:00: 0 days\n",
      "[Skipping] Incomplete window for MAKA on 1993-05-22 00:00:00: 0 days\n",
      "[Skipping] Incomplete window for MAKA on 1993-05-22 00:00:00: 0 days\n",
      "[Skipping] Incomplete window for MAKA on 1993-05-22 00:00:00: 0 days\n",
      "[Skipping] Incomplete window for MAKA on 1993-05-14 00:00:00: 0 days\n",
      "[Skipping] Incomplete window for MAKA on 1993-05-14 00:00:00: 0 days\n",
      "[Skipping] Incomplete window for MAKA on 1993-05-14 00:00:00: 0 days\n",
      "[Skipping] Incomplete window for MAKA on 1993-05-14 00:00:00: 0 days\n",
      "[Skipping] Incomplete window for MAKA on 1993-10-02 00:00:00: 0 days\n",
      "[Skipping] Incomplete window for MAKA on 1993-10-02 00:00:00: 0 days\n",
      "[Skipping] Incomplete window for MAKA on 1993-10-02 00:00:00: 0 days\n",
      "[Skipping] Incomplete window for MAKA on 1993-10-02 00:00:00: 0 days\n",
      "[Skipping] Incomplete window for MAKA on 1993-10-15 00:00:00: 0 days\n",
      "[Skipping] Incomplete window for MAKA on 1993-10-15 00:00:00: 0 days\n",
      "[Skipping] Incomplete window for MAKA on 1993-10-15 00:00:00: 0 days\n",
      "[Skipping] Incomplete window for MAKA on 1993-10-15 00:00:00: 0 days\n",
      "[Skipping] Incomplete window for MAKA on 1993-10-15 00:00:00: 0 days\n",
      "[Skipping] Incomplete window for MAKA on 1993-10-15 00:00:00: 0 days\n",
      "[Skipping] Incomplete window for MAKA on 1993-10-15 00:00:00: 0 days\n",
      "[Skipping] Incomplete window for MAKA on 1993-10-07 00:00:00: 0 days\n",
      "[Skipping] Incomplete window for MAKA on 1993-10-07 00:00:00: 0 days\n",
      "[Skipping] Incomplete window for MAKA on 1993-10-07 00:00:00: 0 days\n",
      "[Skipping] Incomplete window for MAKA on 1993-10-07 00:00:00: 0 days\n",
      "[Skipping] Incomplete window for MAKA on 1993-10-07 00:00:00: 0 days\n",
      "[Skipping] Incomplete window for MAKA on 1993-10-07 00:00:00: 0 days\n",
      "[Skipping] Incomplete window for MAKA on 1993-10-07 00:00:00: 0 days\n",
      "[Skipping] Incomplete window for MAKA on 1993-10-07 00:00:00: 0 days\n",
      "[Skipping] Incomplete window for MAKA on 1993-10-07 00:00:00: 0 days\n",
      "[Skipping] Incomplete window for MAKA on 1993-10-07 00:00:00: 0 days\n",
      "[Skipping] Incomplete window for MAKA on 1993-10-07 00:00:00: 0 days\n",
      "[Skipping] Incomplete window for MAKA on 1993-10-10 00:00:00: 0 days\n",
      "[Skipping] Incomplete window for MAKA on 1993-10-10 00:00:00: 0 days\n",
      "[Skipping] Incomplete window for MAKA on 1993-10-10 00:00:00: 0 days\n",
      "[Skipping] Incomplete window for MAKA on 1993-10-10 00:00:00: 0 days\n",
      "[Skipping] Incomplete window for MAKA on 1993-10-10 00:00:00: 0 days\n",
      "[Skipping] Incomplete window for MAKA on 1993-10-10 00:00:00: 0 days\n",
      "[Skipping] Incomplete window for MAKA on 1994-05-15 00:00:00: 0 days\n",
      "[Skipping] Incomplete window for MAKA on 1994-05-15 00:00:00: 0 days\n",
      "[Skipping] Incomplete window for MAKA on 1994-05-15 00:00:00: 0 days\n",
      "[Skipping] Incomplete window for MAKA on 1994-05-15 00:00:00: 0 days\n",
      "[Skipping] Incomplete window for MAKA on 1994-05-15 00:00:00: 0 days\n",
      "[Skipping] Incomplete window for MAKA on 1994-05-15 00:00:00: 0 days\n",
      "[Skipping] Incomplete window for MAKA on 1994-05-15 00:00:00: 0 days\n",
      "[Skipping] Incomplete window for MAKA on 1994-05-15 00:00:00: 0 days\n",
      "[Skipping] Incomplete window for MAKA on 1994-05-15 00:00:00: 0 days\n",
      "[Skipping] Incomplete window for MAKA on 1994-05-15 00:00:00: 0 days\n",
      "[Skipping] Incomplete window for MAKA on 1994-05-15 00:00:00: 0 days\n",
      "[Skipping] Incomplete window for MAKA on 1994-05-15 00:00:00: 0 days\n",
      "[Skipping] Incomplete window for MAKA on 1994-05-15 00:00:00: 0 days\n",
      "[Skipping] Incomplete window for KANG on 1905-09-01 00:00:00: 0 days\n",
      "[Skipping] Incomplete window for EVER on 1921-09-24 00:00:00: 0 days\n",
      "[Skipping] Incomplete window for EVER on 1922-05-27 00:00:00: 0 days\n",
      "[Skipping] Incomplete window for EVER on 1924-06-08 00:00:00: 0 days\n",
      "[Skipping] Incomplete window for KANG on 1929-10-03 00:00:00: 0 days\n",
      "[Skipping] Incomplete window for KANG on 1930-05-05 00:00:00: 0 days\n",
      "[Skipping] Incomplete window for EVER on 1933-05-30 00:00:00: 0 days\n",
      "[Skipping] Incomplete window for EVER on 1934-05-24 00:00:00: 0 days\n",
      "[Skipping] Incomplete window for EVER on 1935-07-12 00:00:00: 0 days\n",
      "[Skipping] Incomplete window for EVER on 1936-05-14 00:00:00: 0 days\n",
      "[Skipping] Incomplete window for KANG on 1931-09-18 00:00:00: 0 days\n",
      "[Skipping] Incomplete window for EVER on 1938-06-11 00:00:00: 0 days\n",
      "[Skipping] Incomplete window for EVER on 1947-04-15 00:00:00: 0 days\n",
      "[Skipping] Incomplete window for KANG on 1905-09-01 00:00:00: 0 days\n",
      "[Skipping] Incomplete window for KANG on 1905-09-01 00:00:00: 0 days\n",
      "[Skipping] Incomplete window for KANG on 1905-09-01 00:00:00: 0 days\n",
      "[Skipping] Incomplete window for KANG on 1905-09-01 00:00:00: 0 days\n",
      "[Skipping] Incomplete window for KANG on 1905-09-01 00:00:00: 0 days\n",
      "[Skipping] Incomplete window for EVER on 1921-09-24 00:00:00: 0 days\n",
      "[Skipping] Incomplete window for EVER on 1921-09-24 00:00:00: 0 days\n",
      "[Skipping] Incomplete window for EVER on 1922-05-27 00:00:00: 0 days\n",
      "[Skipping] Incomplete window for EVER on 1922-05-27 00:00:00: 0 days\n",
      "[Skipping] Incomplete window for EVER on 1922-05-27 00:00:00: 0 days\n",
      "[Skipping] Incomplete window for EVER on 1922-05-27 00:00:00: 0 days\n",
      "[Skipping] Incomplete window for EVER on 1922-05-27 00:00:00: 0 days\n",
      "[Skipping] Incomplete window for EVER on 1922-05-27 00:00:00: 0 days\n",
      "[Skipping] Incomplete window for EVER on 1922-05-27 00:00:00: 0 days\n",
      "[Skipping] Incomplete window for EVER on 1924-06-08 00:00:00: 0 days\n",
      "[Skipping] Incomplete window for EVER on 1924-06-08 00:00:00: 0 days\n",
      "[Skipping] Incomplete window for EVER on 1924-06-08 00:00:00: 0 days\n",
      "[Skipping] Incomplete window for EVER on 1924-06-08 00:00:00: 0 days\n",
      "[Skipping] Incomplete window for KANG on 1930-05-05 00:00:00: 0 days\n",
      "[Skipping] Incomplete window for KANG on 1931-09-18 00:00:00: 0 days\n",
      "[Skipping] Incomplete window for KANG on 1931-09-18 00:00:00: 0 days\n",
      "[Skipping] Incomplete window for KANG on 1931-09-18 00:00:00: 0 days\n",
      "[Skipping] Incomplete window for MAKA on 1991-10-05 00:00:00: 0 days\n",
      "[Skipping] Incomplete window for MAKA on 1993-05-22 00:00:00: 0 days\n",
      "[Skipping] Incomplete window for MAKA on 1993-05-22 00:00:00: 0 days\n",
      "[Skipping] Incomplete window for MAKA on 1992-05-14 00:00:00: 0 days\n",
      "[Skipping] Incomplete window for EVER on 1921-09-24 00:00:00: 0 days\n",
      "[Skipping] Incomplete window for EVER on 1921-09-24 00:00:00: 0 days\n",
      "[Skipping] Incomplete window for EVER on 1921-09-24 00:00:00: 0 days\n",
      "[Skipping] Incomplete window for EVER on 1921-09-24 00:00:00: 0 days\n",
      "[Skipping] Incomplete window for EVER on 1921-09-24 00:00:00: 0 days\n",
      "[Skipping] Incomplete window for EVER on 1921-09-24 00:00:00: 0 days\n",
      "[Skipping] Incomplete window for EVER on 1922-05-27 00:00:00: 0 days\n",
      "[Skipping] Incomplete window for EVER on 1922-05-27 00:00:00: 0 days\n",
      "[Skipping] Incomplete window for EVER on 1922-05-27 00:00:00: 0 days\n",
      "[Skipping] Incomplete window for EVER on 1922-05-27 00:00:00: 0 days\n",
      "[Skipping] Incomplete window for EVER on 1922-05-27 00:00:00: 0 days\n",
      "[Skipping] Incomplete window for EVER on 1922-05-27 00:00:00: 0 days\n",
      "[Skipping] Incomplete window for EVER on 1922-05-27 00:00:00: 0 days\n",
      "[Skipping] Incomplete window for EVER on 1922-05-27 00:00:00: 0 days\n",
      "[Skipping] Incomplete window for EVER on 1922-05-27 00:00:00: 0 days\n",
      "[Skipping] Incomplete window for EVER on 1922-05-27 00:00:00: 0 days\n",
      "[Skipping] Incomplete window for EVER on 1922-05-27 00:00:00: 0 days\n",
      "[Skipping] Incomplete window for EVER on 1922-05-27 00:00:00: 0 days\n",
      "[Skipping] Incomplete window for EVER on 1924-06-08 00:00:00: 0 days\n",
      "[Skipping] Incomplete window for EVER on 1924-06-08 00:00:00: 0 days\n",
      "[Skipping] Incomplete window for EVER on 1924-06-08 00:00:00: 0 days\n",
      "[Skipping] Incomplete window for EVER on 1924-06-08 00:00:00: 0 days\n",
      "[Skipping] Incomplete window for EVER on 1924-06-08 00:00:00: 0 days\n",
      "[Skipping] Incomplete window for EVER on 1924-06-08 00:00:00: 0 days\n",
      "[Skipping] Incomplete window for EVER on 1924-06-08 00:00:00: 0 days\n",
      "[Skipping] Incomplete window for EVER on 1924-06-08 00:00:00: 0 days\n",
      "[Skipping] Incomplete window for EVER on 1933-05-30 00:00:00: 0 days\n",
      "[Skipping] Incomplete window for EVER on 1933-05-30 00:00:00: 0 days\n",
      "[Skipping] Incomplete window for EVER on 1933-05-30 00:00:00: 0 days\n",
      "[Skipping] Incomplete window for EVER on 1933-05-30 00:00:00: 0 days\n",
      "[Skipping] Incomplete window for EVER on 1933-05-30 00:00:00: 0 days\n",
      "[Skipping] Incomplete window for EVER on 1933-05-30 00:00:00: 0 days\n",
      "[Skipping] Incomplete window for EVER on 1933-05-30 00:00:00: 0 days\n",
      "[Skipping] Incomplete window for EVER on 1933-05-30 00:00:00: 0 days\n",
      "[Skipping] Incomplete window for EVER on 1933-05-30 00:00:00: 0 days\n",
      "[Skipping] Incomplete window for EVER on 1933-05-30 00:00:00: 0 days\n",
      "[Skipping] Incomplete window for EVER on 1933-05-30 00:00:00: 0 days\n",
      "[Skipping] Incomplete window for EVER on 1933-05-30 00:00:00: 0 days\n",
      "[Skipping] Incomplete window for EVER on 1933-05-30 00:00:00: 0 days\n",
      "[Skipping] Incomplete window for EVER on 1933-05-30 00:00:00: 0 days\n",
      "[Skipping] Incomplete window for EVER on 1933-05-30 00:00:00: 0 days\n",
      "[Skipping] Incomplete window for EVER on 1936-05-14 00:00:00: 0 days\n",
      "[Skipping] Incomplete window for EVER on 1936-05-14 00:00:00: 0 days\n",
      "[Skipping] Incomplete window for EVER on 1936-05-14 00:00:00: 0 days\n",
      "[Skipping] Incomplete window for EVER on 1936-05-14 00:00:00: 0 days\n",
      "[Skipping] Incomplete window for EVER on 1936-05-14 00:00:00: 0 days\n",
      "[Skipping] Incomplete window for EVER on 1936-05-14 00:00:00: 0 days\n",
      "[Skipping] Incomplete window for EVER on 1936-05-14 00:00:00: 0 days\n",
      "[Skipping] Incomplete window for EVER on 1936-05-14 00:00:00: 0 days\n",
      "[Skipping] Incomplete window for EVER on 1936-05-14 00:00:00: 0 days\n",
      "[Skipping] Incomplete window for EVER on 1936-05-14 00:00:00: 0 days\n",
      "[Skipping] Incomplete window for EVER on 1936-05-14 00:00:00: 0 days\n",
      "[Skipping] Incomplete window for EVER on 1935-07-12 00:00:00: 0 days\n",
      "[Skipping] Incomplete window for EVER on 1935-07-12 00:00:00: 0 days\n",
      "[Skipping] Incomplete window for EVER on 1935-07-12 00:00:00: 0 days\n",
      "[Skipping] Incomplete window for EVER on 1935-07-12 00:00:00: 0 days\n",
      "[Skipping] Incomplete window for EVER on 1935-07-12 00:00:00: 0 days\n",
      "[Skipping] Incomplete window for EVER on 1935-07-12 00:00:00: 0 days\n",
      "[Skipping] Incomplete window for EVER on 1938-06-11 00:00:00: 0 days\n",
      "[Skipping] Incomplete window for EVER on 1938-06-11 00:00:00: 0 days\n",
      "[Skipping] Incomplete window for EVER on 1938-06-11 00:00:00: 0 days\n",
      "[Skipping] Incomplete window for EVER on 1938-06-11 00:00:00: 0 days\n",
      "[Skipping] Incomplete window for EVER on 1938-06-11 00:00:00: 0 days\n",
      "[Skipping] Incomplete window for EVER on 1938-06-11 00:00:00: 0 days\n",
      "[Skipping] Incomplete window for EVER on 1947-04-15 00:00:00: 0 days\n",
      "[Skipping] Incomplete window for EVER on 1947-04-15 00:00:00: 0 days\n",
      "[Skipping] Incomplete window for KANG on 1929-10-03 00:00:00: 0 days\n",
      "[Skipping] Incomplete window for KANG on 1929-10-03 00:00:00: 0 days\n",
      "[Skipping] Incomplete window for KANG on 1929-10-03 00:00:00: 0 days\n",
      "[Skipping] Incomplete window for KANG on 1929-10-03 00:00:00: 0 days\n",
      "[Skipping] Incomplete window for KANG on 1929-10-03 00:00:00: 0 days\n",
      "[Skipping] Incomplete window for KANG on 1929-10-03 00:00:00: 0 days\n",
      "[Skipping] Incomplete window for KANG on 1929-10-03 00:00:00: 0 days\n",
      "[Skipping] Incomplete window for KANG on 1929-10-03 00:00:00: 0 days\n",
      "[Skipping] Incomplete window for KANG on 1931-09-18 00:00:00: 0 days\n",
      "[Skipping] Incomplete window for KANG on 1931-09-18 00:00:00: 0 days\n",
      "[Skipping] Incomplete window for KANG on 1931-09-18 00:00:00: 0 days\n",
      "[Skipping] Incomplete window for KANG on 1931-09-18 00:00:00: 0 days\n",
      "[Skipping] Incomplete window for KANG on 1931-09-18 00:00:00: 0 days\n",
      "[Skipping] Incomplete window for KANG on 1931-09-18 00:00:00: 0 days\n",
      "[Skipping] Incomplete window for KANG on 1931-09-18 00:00:00: 0 days\n",
      "[Skipping] Incomplete window for KANG on 1931-09-18 00:00:00: 0 days\n",
      "[Skipping] Incomplete window for KANG on 1931-09-18 00:00:00: 0 days\n",
      "[Skipping] Incomplete window for KANG on 1930-05-05 00:00:00: 0 days\n",
      "[Skipping] Incomplete window for KANG on 1930-05-05 00:00:00: 0 days\n",
      "[Skipping] Incomplete window for KANG on 1930-05-05 00:00:00: 0 days\n",
      "[Skipping] Incomplete window for KANG on 1930-05-05 00:00:00: 0 days\n",
      "[Skipping] Incomplete window for KANG on 1930-05-05 00:00:00: 0 days\n",
      "[Skipping] Incomplete window for KANG on 1930-05-05 00:00:00: 0 days\n",
      "[Skipping] Incomplete window for KANG on 1930-05-05 00:00:00: 0 days\n",
      "[Skipping] Incomplete window for KANG on 1930-05-05 00:00:00: 0 days\n",
      "[Skipping] Incomplete window for KANG on 1930-05-05 00:00:00: 0 days\n",
      "[Skipping] Incomplete window for KANG on 1930-05-05 00:00:00: 0 days\n",
      "[Skipping] Incomplete window for MAKA on 1991-04-28 00:00:00: 0 days\n",
      "[Skipping] Incomplete window for MAKA on 1991-04-28 00:00:00: 0 days\n",
      "[Skipping] Incomplete window for MAKA on 1992-10-02 00:00:00: 0 days\n",
      "[Skipping] Incomplete window for MAKA on 1992-10-02 00:00:00: 0 days\n",
      "[Skipping] Incomplete window for KANG on 1905-09-01 00:00:00: 0 days\n",
      "[Skipping] Incomplete window for KANG on 1905-09-01 00:00:00: 0 days\n",
      "[Skipping] Incomplete window for KANG on 1905-09-01 00:00:00: 0 days\n",
      "[Skipping] Incomplete window for EVER on 1921-09-24 00:00:00: 0 days\n",
      "[Skipping] Incomplete window for MAKA on 1993-05-14 00:00:00: 0 days\n",
      "[Skipping] Incomplete window for EVER on 1934-05-24 00:00:00: 0 days\n",
      "[Skipping] Incomplete window for EVER on 1934-05-24 00:00:00: 0 days\n",
      "[Skipping] Incomplete window for EVER on 1934-05-24 00:00:00: 0 days\n",
      "[Skipping] Incomplete window for MAKA on 1991-10-05 00:00:00: 0 days\n",
      "[Skipping] Incomplete window for MAKA on 1992-10-02 00:00:00: 0 days\n",
      "[Skipping] Incomplete window for MAKA on 1992-05-14 00:00:00: 0 days\n",
      "[Skipping] Incomplete window for MAKA on 1992-05-14 00:00:00: 0 days\n",
      "[Skipping] Incomplete window for EVER on 1938-06-11 00:00:00: 0 days\n",
      "[Skipping] Incomplete window for EVER on 1938-06-11 00:00:00: 0 days\n",
      "[Skipping] Incomplete window for EVER on 1938-06-11 00:00:00: 0 days\n",
      "[Skipping] Incomplete window for EVER on 1938-06-11 00:00:00: 0 days\n",
      "[Skipping] Incomplete window for EVER on 1938-06-11 00:00:00: 0 days\n",
      "[Skipping] Incomplete window for EVER on 1938-06-11 00:00:00: 0 days\n",
      "[Skipping] Incomplete window for EVER on 1938-06-11 00:00:00: 0 days\n",
      "[Skipping] Incomplete window for EVER on 1938-06-11 00:00:00: 0 days\n",
      "[Skipping] Incomplete window for EVER on 1938-06-11 00:00:00: 0 days\n",
      "[Skipping] Incomplete window for EVER on 1938-06-11 00:00:00: 0 days\n",
      "[Skipping] Incomplete window for EVER on 1938-06-11 00:00:00: 0 days\n",
      "[Skipping] Incomplete window for EVER on 1938-06-11 00:00:00: 0 days\n",
      "[Skipping] Incomplete window for EVER on 1938-06-11 00:00:00: 0 days\n",
      "[Skipping] Incomplete window for EVER on 1938-06-11 00:00:00: 0 days\n",
      "[Skipping] Incomplete window for EVER on 1938-06-11 00:00:00: 0 days\n",
      "[Skipping] Incomplete window for EVER on 1938-06-11 00:00:00: 0 days\n",
      "[Skipping] Incomplete window for EVER on 1936-05-14 00:00:00: 0 days\n",
      "[Skipping] Incomplete window for EVER on 1936-05-14 00:00:00: 0 days\n",
      "[Skipping] Incomplete window for EVER on 1936-05-14 00:00:00: 0 days\n",
      "[Skipping] Incomplete window for EVER on 1936-05-14 00:00:00: 0 days\n",
      "[Skipping] Incomplete window for EVER on 1936-05-14 00:00:00: 0 days\n",
      "[Skipping] Incomplete window for EVER on 1936-05-14 00:00:00: 0 days\n",
      "[Skipping] Incomplete window for EVER on 1936-05-14 00:00:00: 0 days\n",
      "[Skipping] Incomplete window for EVER on 1936-05-14 00:00:00: 0 days\n",
      "[Skipping] Incomplete window for EVER on 1936-05-14 00:00:00: 0 days\n",
      "[Skipping] Incomplete window for EVER on 1936-05-14 00:00:00: 0 days\n",
      "[Skipping] Incomplete window for EVER on 1936-05-14 00:00:00: 0 days\n",
      "[Skipping] Incomplete window for EVER on 1936-05-14 00:00:00: 0 days\n",
      "[Skipping] Incomplete window for EVER on 1936-05-14 00:00:00: 0 days\n",
      "[Skipping] Incomplete window for EVER on 1936-05-14 00:00:00: 0 days\n",
      "[Skipping] Incomplete window for EVER on 1936-05-14 00:00:00: 0 days\n",
      "[Skipping] Incomplete window for EVER on 1936-05-14 00:00:00: 0 days\n",
      "[Skipping] Incomplete window for EVER on 1936-05-14 00:00:00: 0 days\n",
      "[Skipping] Incomplete window for EVER on 1936-05-14 00:00:00: 0 days\n",
      "[Skipping] Incomplete window for EVER on 1936-05-14 00:00:00: 0 days\n",
      "[Skipping] Incomplete window for EVER on 1936-05-14 00:00:00: 0 days\n",
      "[Skipping] Incomplete window for EVER on 1936-05-14 00:00:00: 0 days\n",
      "[Skipping] Incomplete window for EVER on 1935-07-12 00:00:00: 0 days\n",
      "[Skipping] Incomplete window for EVER on 1935-07-12 00:00:00: 0 days\n",
      "[Skipping] Incomplete window for EVER on 1935-07-12 00:00:00: 0 days\n",
      "[Skipping] Incomplete window for EVER on 1935-07-12 00:00:00: 0 days\n",
      "[Skipping] Incomplete window for EVER on 1935-07-12 00:00:00: 0 days\n",
      "[Skipping] Incomplete window for EVER on 1935-07-12 00:00:00: 0 days\n",
      "[Skipping] Incomplete window for EVER on 1935-07-12 00:00:00: 0 days\n",
      "[Skipping] Incomplete window for EVER on 1935-07-12 00:00:00: 0 days\n",
      "[Skipping] Incomplete window for EVER on 1935-07-12 00:00:00: 0 days\n",
      "[Skipping] Incomplete window for EVER on 1935-07-12 00:00:00: 0 days\n",
      "[Skipping] Incomplete window for EVER on 1935-07-12 00:00:00: 0 days\n",
      "[Skipping] Incomplete window for EVER on 1933-05-30 00:00:00: 0 days\n",
      "[Skipping] Incomplete window for EVER on 1933-05-30 00:00:00: 0 days\n",
      "[Skipping] Incomplete window for EVER on 1933-05-30 00:00:00: 0 days\n",
      "[Skipping] Incomplete window for EVER on 1933-05-30 00:00:00: 0 days\n",
      "[Skipping] Incomplete window for EVER on 1933-05-30 00:00:00: 0 days\n",
      "[Skipping] Incomplete window for EVER on 1933-05-30 00:00:00: 0 days\n",
      "[Skipping] Incomplete window for EVER on 1933-05-30 00:00:00: 0 days\n",
      "[Skipping] Incomplete window for EVER on 1933-05-30 00:00:00: 0 days\n",
      "[Skipping] Incomplete window for EVER on 1933-05-30 00:00:00: 0 days\n",
      "[Skipping] Incomplete window for EVER on 1933-05-30 00:00:00: 0 days\n",
      "[Skipping] Incomplete window for EVER on 1933-05-30 00:00:00: 0 days\n",
      "[Skipping] Incomplete window for EVER on 1933-05-30 00:00:00: 0 days\n",
      "[Skipping] Incomplete window for EVER on 1933-05-30 00:00:00: 0 days\n",
      "[Skipping] Incomplete window for EVER on 1933-05-30 00:00:00: 0 days\n",
      "[Skipping] Incomplete window for EVER on 1933-05-30 00:00:00: 0 days\n",
      "[Skipping] Incomplete window for EVER on 1933-05-30 00:00:00: 0 days\n",
      "[Skipping] Incomplete window for EVER on 1933-05-30 00:00:00: 0 days\n",
      "[Skipping] Incomplete window for EVER on 1933-05-30 00:00:00: 0 days\n",
      "[Skipping] Incomplete window for EVER on 1933-05-30 00:00:00: 0 days\n",
      "[Skipping] Incomplete window for EVER on 1933-05-30 00:00:00: 0 days\n",
      "[Skipping] Incomplete window for EVER on 1933-05-30 00:00:00: 0 days\n",
      "[Skipping] Incomplete window for EVER on 1933-05-30 00:00:00: 0 days\n",
      "[Skipping] Incomplete window for EVER on 1933-05-30 00:00:00: 0 days\n",
      "[Skipping] Incomplete window for EVER on 1933-05-30 00:00:00: 0 days\n",
      "[Skipping] Incomplete window for EVER on 1933-05-30 00:00:00: 0 days\n",
      "[Skipping] Incomplete window for EVER on 1933-05-30 00:00:00: 0 days\n",
      "[Skipping] Incomplete window for EVER on 1933-05-30 00:00:00: 0 days\n",
      "[Skipping] Incomplete window for KANG on 1931-09-18 00:00:00: 0 days\n",
      "[Skipping] Incomplete window for KANG on 1931-09-18 00:00:00: 0 days\n",
      "[Skipping] Incomplete window for KANG on 1931-09-18 00:00:00: 0 days\n",
      "[Skipping] Incomplete window for KANG on 1929-10-03 00:00:00: 0 days\n",
      "[Skipping] Incomplete window for KANG on 1929-10-03 00:00:00: 0 days\n",
      "[Skipping] Incomplete window for KANG on 1929-10-03 00:00:00: 0 days\n",
      "[Skipping] Incomplete window for KANG on 1929-10-03 00:00:00: 0 days\n",
      "[Skipping] Incomplete window for KANG on 1930-05-05 00:00:00: 0 days\n",
      "[Skipping] Incomplete window for KANG on 1929-10-03 00:00:00: 0 days\n",
      "[Skipping] Incomplete window for KANG on 1930-05-05 00:00:00: 0 days\n",
      "[Skipping] Incomplete window for KANG on 1930-05-05 00:00:00: 0 days\n",
      "[Skipping] Incomplete window for EVER on 1921-09-24 00:00:00: 0 days\n",
      "[Skipping] Incomplete window for EVER on 1921-09-24 00:00:00: 0 days\n",
      "[Skipping] Incomplete window for EVER on 1921-09-24 00:00:00: 0 days\n",
      "[Skipping] Incomplete window for EVER on 1922-05-27 00:00:00: 0 days\n",
      "[Skipping] Incomplete window for EVER on 1922-05-27 00:00:00: 0 days\n",
      "(52638, 444)\n",
      "<bound method NDFrame.head of       PEAKID parent_peakid event_date  Target  100u_t-0  100v_t-0  10fg_t-0  \\\n",
      "0       ANN1          ANN1 1969-05-09       0 -1.388553 -0.510961  4.372650   \n",
      "1       ANN1          ANN1 1969-05-09       0 -1.388553 -0.510961  4.372650   \n",
      "2       ANN1          ANN1 1969-05-09       0 -1.388553 -0.510961  4.372650   \n",
      "3       ANN1          ANN1 1969-05-09       0 -1.388553 -0.510961  4.372650   \n",
      "4       ANN1          ANN1 1969-05-09       0 -1.388553 -0.510961  4.372650   \n",
      "...      ...           ...        ...     ...       ...       ...       ...   \n",
      "52633   MAKA          MAKA 2024-05-30       0 -1.225772  0.213993  6.030155   \n",
      "52634   MAKA          MAKA 2024-05-30       1 -1.225772  0.213993  6.030155   \n",
      "52635   MAKA          MAKA 2024-05-30       0 -1.225772  0.213993  6.030155   \n",
      "52636   MAKA          MAKA 2024-05-30       0 -1.225772  0.213993  6.030155   \n",
      "52637   MAKA          MAKA 2024-05-30       1 -1.225772  0.213993  6.030155   \n",
      "\n",
      "        10u_t-0   10v_t-0      2d_t-0  ...    tp_t-7     tsn_t-7  u10n_t-7  \\\n",
      "0     -0.826065 -0.605141  272.622225  ...  0.000006  268.120297 -0.525524   \n",
      "1     -0.826065 -0.605141  272.622225  ...  0.000006  268.120297 -0.525524   \n",
      "2     -0.826065 -0.605141  272.622225  ...  0.000006  268.120297 -0.525524   \n",
      "3     -0.826065 -0.605141  272.622225  ...  0.000006  268.120297 -0.525524   \n",
      "4     -0.826065 -0.605141  272.622225  ...  0.000006  268.120297 -0.525524   \n",
      "...         ...       ...         ...  ...       ...         ...       ...   \n",
      "52633 -0.785794 -0.158215  283.839519  ...  0.000018  271.151464 -0.523285   \n",
      "52634 -0.785794 -0.158215  283.839519  ...  0.000018  271.151464 -0.523285   \n",
      "52635 -0.785794 -0.158215  283.839519  ...  0.000018  271.151464 -0.523285   \n",
      "52636 -0.785794 -0.158215  283.839519  ...  0.000018  271.151464 -0.523285   \n",
      "52637 -0.785794 -0.158215  283.839519  ...  0.000018  271.151464 -0.523285   \n",
      "\n",
      "       v10n_t-7     viiwd_t-7  viiwe_t-7  viiwn_t-7     vilwd_t-7  vilwe_t-7  \\\n",
      "0     -0.155321 -1.873489e-05   3.151028   1.767115 -3.120751e-06   0.141787   \n",
      "1     -0.155321 -1.873489e-05   3.151028   1.767115 -3.120751e-06   0.141787   \n",
      "2     -0.155321 -1.873489e-05   3.151028   1.767115 -3.120751e-06   0.141787   \n",
      "3     -0.155321 -1.873489e-05   3.151028   1.767115 -3.120751e-06   0.141787   \n",
      "4     -0.155321 -1.873489e-05   3.151028   1.767115 -3.120751e-06   0.141787   \n",
      "...         ...           ...        ...        ...           ...        ...   \n",
      "52633  0.210572 -8.594322e-07  -0.000126   0.132045 -6.728273e-07  -0.314823   \n",
      "52634  0.210572 -8.594322e-07  -0.000126   0.132045 -6.728273e-07  -0.314823   \n",
      "52635  0.210572 -8.594322e-07  -0.000126   0.132045 -6.728273e-07  -0.314823   \n",
      "52636  0.210572 -8.594322e-07  -0.000126   0.132045 -6.728273e-07  -0.314823   \n",
      "52637  0.210572 -8.594322e-07  -0.000126   0.132045 -6.728273e-07  -0.314823   \n",
      "\n",
      "       vilwn_t-7  \n",
      "0       0.193037  \n",
      "1       0.193037  \n",
      "2       0.193037  \n",
      "3       0.193037  \n",
      "4       0.193037  \n",
      "...          ...  \n",
      "52633   0.295077  \n",
      "52634   0.295077  \n",
      "52635   0.295077  \n",
      "52636   0.295077  \n",
      "52637   0.295077  \n",
      "\n",
      "[52638 rows x 444 columns]>\n"
     ]
    }
   ],
   "source": [
    "from src.met_transformer.met_data_setup import load_era5_data\n",
    "\n",
    "weather_df = load_era5_data(do_build_instances=True, n_context_days=7)\n",
    "output_path = Path('data/era5_data')\n",
    "output_file = output_path / \"era5_data.csv\"\n",
    "weather_df.to_csv(output_file, index=False)\n",
    "\n",
    "print(weather_df.shape)\n",
    "print(weather_df.head)"
   ]
  },
  {
   "cell_type": "markdown",
   "metadata": {},
   "source": [
    "The original tabular dataset had 53102 rows. However, when creating the new weather dataset by joining the tabular instances, we now have 52638 rows, and 444 features. The reason for the drop in the rows is because of our 7-day context. Whenever there were instances where there was not sufficient context days, said instances were dropped. \n",
    "\n",
    "For reference, due to the significant amount of columns and rows, below is the file size for the complete weather data:"
   ]
  },
  {
   "cell_type": "code",
   "execution_count": 9,
   "metadata": {},
   "outputs": [
    {
     "name": "stdout",
     "output_type": "stream",
     "text": [
      "Complete era5 weather data file size: 421 MB\n"
     ]
    }
   ],
   "source": [
    "from pathlib import Path\n",
    "\n",
    "era5_data_csv_size = Path(\"data/era5_data/era5_data.csv\").stat().st_size // (1024*1024)\n",
    "print(f\"Complete era5 weather data file size: {era5_data_csv_size} MB\")"
   ]
  },
  {
   "cell_type": "markdown",
   "metadata": {},
   "source": [
    "## 5. Stormer Model Instantiation"
   ]
  },
  {
   "cell_type": "markdown",
   "metadata": {},
   "source": [
    "When initializing the Stormer model, we pass it an extensive list of variables. However, according to research, not all variables have the same influence on weather patterns. Pressure, temperature, and wind have been consistently identified as major weather drivers. Therefore, while the model itself can increase the weight of these parameters as it identifies that the target is more significantly predicted by these, we aim at saving time and increase performance by providing said weights with a boost to signal their more relevant importance. \n",
    "\n",
    "Hence, we can identify which are the most relevant features and then develop a mask to signal priority, while also providing a weight boost.\n",
    "\n",
    "Consequently, due to this weight initialization, we shall later incorporate regularization (either spare or bounded) to help prevent over-reliance on any one of these weather variables. "
   ]
  },
  {
   "cell_type": "code",
   "execution_count": 6,
   "metadata": {},
   "outputs": [],
   "source": [
    "weather_mapping = {\n",
    "    '10u':   '10 metre U wind component',\n",
    "    '10v':   '10 metre V wind component',\n",
    "    '2d':    '2 metre dewpoint temperature',\n",
    "    '2t':    '2 metre temperature',\n",
    "    'msl':   'Mean sea level pressure',\n",
    "    'sp':    'Surface pressure',\n",
    "    'tp':    'Total precipitation',\n",
    "    'istl1': 'Ice temperature layer 1',\n",
    "    'istl2': 'Ice temperature layer 2',\n",
    "    'istl3': 'Ice temperature layer 3',\n",
    "    'istl4': 'Ice temperature layer 4',\n",
    "    'mx2t':  'Maximum temperature at 2 metres since previous post-processing',\n",
    "    'mn2t':  'Minimum temperature at 2 metres since previous post-processing',\n",
    "    'skt':   'Skin temperature',\n",
    "    '100u':  '100 metre U wind component',\n",
    "    '100v':  '100 metre V wind component',\n",
    "    'u10n':  '10 metre u-component of neutral wind',\n",
    "    'v10n':  '10 metre v-component of neutral wind',\n",
    "    '10fg':  'Maximum 10 metre wind gust since previous post-processing',\n",
    "    'i10fg': 'Instantaneous 10 metre wind gust',\n",
    "    'cbh':   'Cloud base height',\n",
    "    'hcc':   'High cloud cover',\n",
    "    'lcc':   'Low cloud cover',\n",
    "    'mcc':   'Medium cloud cover',\n",
    "    'tcc':   'Total cloud cover',\n",
    "    'tciw':  'Total column cloud ice water',\n",
    "    'tclw':  'Total column cloud liquid water',\n",
    "    'viiwd': 'Vertical integral of divergence of cloud frozen water flux',\n",
    "    'vilwd': 'Vertical integral of divergence of cloud liquid water flux',\n",
    "    'viiwe': 'Vertical integral of eastward cloud frozen water flux',\n",
    "    'vilwe': 'Vertical integral of eastward cloud liquid water flux',\n",
    "    'viiwn': 'Vertical integral of northward cloud frozen water flux',\n",
    "    'vilwn': 'Vertical integral of northward cloud liquid water flux',\n",
    "    'cp':    'Convective precipitation',\n",
    "    'crr':   'Convective rain rate',\n",
    "    'ilspf': 'Instantaneous large-scale surface precipitation fraction',\n",
    "    'lsrr':  'Large scale rain rate',\n",
    "    'lsp':   'Large-scale precipitation',\n",
    "    'lspf':  'Large-scale precipitation fraction',\n",
    "    'mxtpr': 'Maximum total precipitation rate since previous post-processing',\n",
    "    'mntpr': 'Minimum total precipitation rate since previous post-processing',\n",
    "    'ptype': 'Precipitation type',\n",
    "    'tcrw':  'Total column rain water',\n",
    "    'csf':   'Convective snowfall',\n",
    "    'csfr':  'Convective snowfall rate water equivalent',\n",
    "    'lssfr': 'Large scale snowfall rate water equivalent',\n",
    "    'lsf':   'Large-scale snowfall',\n",
    "    'asn':   'Snow albedo',\n",
    "    'rsn':   'Snow density',\n",
    "    'sd':    'Snow depth',\n",
    "    'es':    'Snow evaporation',\n",
    "    'sf':    'Snowfall',\n",
    "    'smlt':  'Snowmelt',\n",
    "    'tsn':   'Temperature of snow layer',\n",
    "    'tcsw':  'Total column snow water'\n",
    "}"
   ]
  },
  {
   "cell_type": "markdown",
   "metadata": {},
   "source": [
    "The following array are all the meteorological variables requested from the era5 API, and that will be used to instantiate Stormer. "
   ]
  },
  {
   "cell_type": "code",
   "execution_count": 8,
   "metadata": {},
   "outputs": [],
   "source": [
    "variables = [\n",
    "        \"10m_u_component_of_wind\",\n",
    "        \"10m_v_component_of_wind\",\n",
    "        \"2m_dewpoint_temperature\",\n",
    "        \"2m_temperature\",\n",
    "        \"mean_sea_level_pressure\",\n",
    "        \"surface_pressure\",\n",
    "        \"total_precipitation\",\n",
    "        \"ice_temperature_layer_1\",\n",
    "        \"ice_temperature_layer_2\",\n",
    "        \"ice_temperature_layer_3\",\n",
    "        \"ice_temperature_layer_4\",\n",
    "        \"maximum_2m_temperature_since_previous_post_processing\",\n",
    "        \"minimum_2m_temperature_since_previous_post_processing\",\n",
    "        \"skin_temperature\",\n",
    "        \"100m_u_component_of_wind\",\n",
    "        \"100m_v_component_of_wind\",\n",
    "        \"10m_u_component_of_neutral_wind\",\n",
    "        \"10m_v_component_of_neutral_wind\",\n",
    "        \"10m_wind_gust_since_previous_post_processing\",\n",
    "        \"instantaneous_10m_wind_gust\",\n",
    "        \"cloud_base_height\",\n",
    "        \"high_cloud_cover\",\n",
    "        \"low_cloud_cover\",\n",
    "        \"medium_cloud_cover\",\n",
    "        \"total_cloud_cover\",\n",
    "        \"total_column_cloud_ice_water\",\n",
    "        \"total_column_cloud_liquid_water\",\n",
    "        \"vertical_integral_of_divergence_of_cloud_frozen_water_flux\",\n",
    "        \"vertical_integral_of_divergence_of_cloud_liquid_water_flux\",\n",
    "        \"vertical_integral_of_eastward_cloud_frozen_water_flux\",\n",
    "        \"vertical_integral_of_eastward_cloud_liquid_water_flux\",\n",
    "        \"vertical_integral_of_northward_cloud_frozen_water_flux\",\n",
    "        \"vertical_integral_of_northward_cloud_liquid_water_flux\",\n",
    "        \"convective_precipitation\",\n",
    "        \"convective_rain_rate\",\n",
    "        \"instantaneous_large_scale_surface_precipitation_fraction\",\n",
    "        \"large_scale_rain_rate\",\n",
    "        \"large_scale_precipitation\",\n",
    "        \"large_scale_precipitation_fraction\",\n",
    "        \"maximum_total_precipitation_rate_since_previous_post_processing\",\n",
    "        \"minimum_total_precipitation_rate_since_previous_post_processing\",\n",
    "        \"precipitation_type\",\n",
    "        \"total_column_rain_water\",\n",
    "        \"convective_snowfall\",\n",
    "        \"convective_snowfall_rate_water_equivalent\",\n",
    "        \"large_scale_snowfall_rate_water_equivalent\",\n",
    "        \"large_scale_snowfall\",\n",
    "        \"snow_albedo\",\n",
    "        \"snow_density\",\n",
    "        \"snow_depth\",\n",
    "        \"snow_evaporation\",\n",
    "        \"snowfall\",\n",
    "        \"snowmelt\",\n",
    "        \"temperature_of_snow_layer\",\n",
    "        \"total_column_snow_water\"\n",
    "    ]"
   ]
  },
  {
   "cell_type": "code",
   "execution_count": 10,
   "metadata": {},
   "outputs": [],
   "source": [
    "met_weights = {\n",
    "    key: 1.2 # an 20% boost to these key weights\n",
    "    for key, description in weather_mapping.items()\n",
    "    if any(term in description.lower() for term in (\"wind\", \"temperature\", \"pressure\"))\n",
    "}\n",
    "\n",
    "priority_features = [key for key in met_weights]"
   ]
  },
  {
   "cell_type": "markdown",
   "metadata": {},
   "source": [
    "Following the creation of the appropriate .csv file for training purposes, we can now leverage `set_splits()` and `create_dataloaders()` to instantiate our splits and dataloaders. "
   ]
  },
  {
   "cell_type": "code",
   "execution_count": 11,
   "metadata": {},
   "outputs": [
    {
     "name": "stdout",
     "output_type": "stream",
     "text": [
      "[INFO] Data splits already exist under data/era5_data. Skipping split.\n"
     ]
    },
    {
     "data": {
      "text/plain": [
       "(<torch.utils.data.dataloader.DataLoader at 0x3b0ba8f90>,\n",
       " <torch.utils.data.dataloader.DataLoader at 0x3b13214d0>,\n",
       " <torch.utils.data.dataloader.DataLoader at 0x31f2b6d50>)"
      ]
     },
     "execution_count": 11,
     "metadata": {},
     "output_type": "execute_result"
    }
   ],
   "source": [
    "from pathlib import Path\n",
    "from src.helper_functions import set_seeds, set_data_splits, create_dataloaders\n",
    "from src.met_transformer.met_utils import WeatherDataset\n",
    "\n",
    "set_seeds(42)\n",
    "\n",
    "splits_path = Path(\"data/era5_data\")\n",
    "weather_csv = Path(\"data/era5_data/era5_data.csv\")\n",
    "weather_df = pd.read_csv(weather_csv, parse_dates=[\"event_date\"])\n",
    "\n",
    "metadata_cols = [\"PEAKID\", \"parent_peakid\", \"event_date\"]\n",
    "X = weather_df.drop(columns=[\"Target\"])\n",
    "y = weather_df[\"Target\"]\n",
    "\n",
    "set_data_splits(X, y, splits_path, seed=42)\n",
    "\n",
    "weather_train_dataloader, weather_val_dataloader, weather_test_dataloader = create_dataloaders(\n",
    "    dataset_class=WeatherDataset,\n",
    "    train_file=splits_path / \"train\" / \"train.csv\",\n",
    "    val_file=splits_path / \"val\" / \"val.csv\",\n",
    "    test_file=splits_path / \"test\" / \"test.csv\",\n",
    "    batch_size=32,\n",
    "    dataset_kwargs={\n",
    "        'target_column': 'Target',\n",
    "        'metadata_cols': metadata_cols,\n",
    "        'continuous_mean_std': None,\n",
    "        'priority_features':  priority_features,\n",
    "        'variables': variables\n",
    "    }\n",
    "\n",
    ")\n",
    "\n",
    "weather_train_dataloader, weather_val_dataloader, weather_test_dataloader"
   ]
  },
  {
   "cell_type": "code",
   "execution_count": null,
   "metadata": {},
   "outputs": [],
   "source": [
    "X_batch, mask_batch, y_batch, window_batch = next(iter(weather_train_dataloader))\n",
    "\n",
    "print(f\"X:{X_batch}\\nmask: {mask_batch}\\ny: {y_batch}\\nwindow_batch: {window_batch}\\n\")"
   ]
  },
  {
   "cell_type": "code",
   "execution_count": null,
   "metadata": {},
   "outputs": [],
   "source": [
    "# First instance\n",
    "X_instance = X_batch[0]\n",
    "mask_instance = mask_batch[0]\n",
    "y_instance = y_batch[0]\n",
    "window_instance = window_batch[0]\n",
    "\n",
    "print(f\"X: {X_instance}\\nmask: {mask_instance}\\ny: {y_instance}\\nwindow: {window_instance}\\n\")"
   ]
  },
  {
   "cell_type": "markdown",
   "metadata": {},
   "source": [
    "When assigning initial weights to certain variables due to their greater significance, one can use the `weather_mapping` used above, which was obtained from the `met_data_setup.py` file that has the internal feature mapping used by the `.csv` file due to its creation using `pygrib`. Such mapping lacks however the offsets which are added below. When instantiating the `FeatureWeatherEmbedding` class in `met_model.py`, one can refer to this mapping to select the desired variables and assign the right weights. "
   ]
  },
  {
   "cell_type": "code",
   "execution_count": 12,
   "metadata": {},
   "outputs": [],
   "source": [
    "offsets= range(0, 8)\n",
    "met_weights_with_offset = {\n",
    "    f\"{feat}_t-{off}\":weight\n",
    "    for feat, weight in met_weights.items()\n",
    "    for off in offsets\n",
    "}"
   ]
  },
  {
   "cell_type": "markdown",
   "metadata": {},
   "source": [
    "When initializing the Stormer model, we pass it an extensive list of variables. However, according to research, not all variables have the same influence on weather patterns. Pressure, temperature, and wind have been consistently identified as major weather drivers. Therefore, while the model itself can increase the weight of these parameters as it identifies that the target is more significantly predicted by these, we aim at saving time and increase performance by providing said weights with a boost to signal their more relevant importance. \n",
    "\n",
    "Consequently, due to this weight initialization, we shall later incorporate regularization (either spare or bounded) to help prevent over-reliance on any one of these weather variables. "
   ]
  },
  {
   "cell_type": "code",
   "execution_count": 13,
   "metadata": {},
   "outputs": [
    {
     "data": {
      "text/plain": [
       "Stormer(\n",
       "  (embedding): FeaturedWeightedEmbedding(\n",
       "    (proj): Linear(in_features=55, out_features=1024, bias=True)\n",
       "  )\n",
       "  (embed_norm_layer): LayerNorm((1024,), eps=1e-05, elementwise_affine=True)\n",
       "  (blocks): ModuleList(\n",
       "    (0-23): 24 x Block(\n",
       "      (norm1): LayerNorm((1024,), eps=1e-06, elementwise_affine=False)\n",
       "      (attn): Attention(\n",
       "        (qkv): Linear(in_features=1024, out_features=3072, bias=False)\n",
       "        (attn_drop): Dropout(p=0.1, inplace=False)\n",
       "        (proj): Linear(in_features=1024, out_features=1024, bias=True)\n",
       "        (proj_drop): Dropout(p=0.1, inplace=False)\n",
       "      )\n",
       "      (norm2): LayerNorm((1024,), eps=1e-06, elementwise_affine=False)\n",
       "      (mlp): MLP(\n",
       "        (mlp): Sequential(\n",
       "          (0): Linear(in_features=1024, out_features=8192, bias=True)\n",
       "          (1): GLU()\n",
       "          (2): Swish()\n",
       "          (3): Linear(in_features=4096, out_features=1024, bias=True)\n",
       "        )\n",
       "      )\n",
       "      (adaLN_modulation): Sequential(\n",
       "        (0): Swish()\n",
       "        (1): Linear(in_features=1024, out_features=6144, bias=True)\n",
       "      )\n",
       "    )\n",
       "  )\n",
       "  (head): FinalLayer(\n",
       "    (norm_final): LayerNorm((1024,), eps=1e-06, elementwise_affine=False)\n",
       "    (linear): Linear(in_features=1024, out_features=220, bias=True)\n",
       "    (adaLN_modulation): Sequential(\n",
       "      (0): Swish()\n",
       "      (1): Linear(in_features=1024, out_features=2048, bias=True)\n",
       "    )\n",
       "  )\n",
       ")"
      ]
     },
     "execution_count": 13,
     "metadata": {},
     "output_type": "execute_result"
    }
   ],
   "source": [
    "from src.met_transformer.met_model import Stormer\n",
    "\n",
    "stormer = Stormer(img_size=[128, 256],\n",
    "                  variables=variables,\n",
    "                  met_weights=met_weights_with_offset,\n",
    "                  patch_size=2,\n",
    "                  hidden_size=1024,\n",
    "                  depth=24,\n",
    "                  num_heads=16,\n",
    "                  mlp_ratio=4.0)\n",
    "\n",
    "stormer.to(device)"
   ]
  },
  {
   "cell_type": "markdown",
   "metadata": {},
   "source": [
    "## 6. Stormer Model training"
   ]
  },
  {
   "cell_type": "code",
   "execution_count": null,
   "metadata": {},
   "outputs": [],
   "source": [
    "from src.met_transformer.met_train import train_step, test_step\n",
    "\n",
    "# Hyperparameters pulled from the paper\n",
    "loss_fn = nn.CrossEntropyLoss().to(device)\n",
    "optimizer = torch.optim.AdamW(stormer.parameters(),lr=3e-4, betas=(0.9, 0.999), weight_decay=1e-2)\n",
    "\n",
    "train_step(model=stormer,\n",
    "           dataloader=weather_train_dataloader,\n",
    "           loss_fn=loss_fn,\n",
    "           optimizer=optimizer,\n",
    "           device=device,\n",
    "           lambda_reg=1e-3\n",
    ")\n",
    "\n",
    "val_step = test_step(model=saint,\n",
    "                     dataloader=weather_val_dataloader,\n",
    "                     loss_fn=loss_fn,\n",
    "                     device=device)\n",
    "\n",
    "val_step"
   ]
  },
  {
   "cell_type": "markdown",
   "metadata": {},
   "source": [
    "Although we have the training code here, due to the size of Stormer and the massive dataset, it is unfeasible to train it on Google Collab due to memory limitations. The training of the model was actually done on the DAS5 supercomputer."
   ]
  },
  {
   "cell_type": "code",
   "execution_count": null,
   "metadata": {},
   "outputs": [],
   "source": [
    "%%time\n",
    "from helper_functions import set_seeds, create_writer\n",
    "from src.tab_transformer.tab_train import train\n",
    "\n",
    "set_seeds(42)\n",
    "\n",
    "stormer_results = train(model=stormer,\n",
    "      train_dataloader=weather_train_dataloader,\n",
    "      val_dataloader=weather_val_dataloader,\n",
    "      test_dataloader=weather_test_dataloader,\n",
    "      optimizer=optimizer,\n",
    "      loss_fn=loss_fn,\n",
    "      epochs=75,\n",
    "      writer=create_writer(experiment_name=\"first_run\",\n",
    "                                   model_name=\"stormer\")\n",
    ")"
   ]
  },
  {
   "cell_type": "code",
   "execution_count": null,
   "metadata": {},
   "outputs": [],
   "source": [
    "from helper_functions import plot_loss_curves\n",
    "\n",
    "plot_loss_curves(stormer_results)"
   ]
  },
  {
   "cell_type": "markdown",
   "metadata": {},
   "source": [
    "## 7. DeepSummit Model\n",
    "\n",
    "Following the development of the SAINT and Stormer models, we merge both through late fusion to develop the DeepSummit model which leverages both the TabularDataset and WeatherDataset to develop a more comprehensive prediction. "
   ]
  }
 ],
 "metadata": {
  "kernelspec": {
   "display_name": "Python3_Env",
   "language": "python",
   "name": "python3"
  },
  "language_info": {
   "codemirror_mode": {
    "name": "ipython",
    "version": 3
   },
   "file_extension": ".py",
   "mimetype": "text/x-python",
   "name": "python",
   "nbconvert_exporter": "python",
   "pygments_lexer": "ipython3",
   "version": "3.11.4"
  }
 },
 "nbformat": 4,
 "nbformat_minor": 2
}
