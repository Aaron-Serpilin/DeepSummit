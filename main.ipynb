{
 "cells": [
  {
   "cell_type": "markdown",
   "metadata": {},
   "source": [
    "# Deep Learning Framework for Predicting Himalayan Summit Success \n"
   ]
  },
  {
   "cell_type": "code",
   "execution_count": 1,
   "metadata": {},
   "outputs": [
    {
     "name": "stdout",
     "output_type": "stream",
     "text": [
      "torch version: 2.6.0\n",
      "torchvision version: 0.21.0\n"
     ]
    },
    {
     "name": "stderr",
     "output_type": "stream",
     "text": [
      "/Users/aaronserpilin/anaconda3/envs/Python3_Env/lib/python3.11/site-packages/tqdm/auto.py:21: TqdmWarning: IProgress not found. Please update jupyter and ipywidgets. See https://ipywidgets.readthedocs.io/en/stable/user_install.html\n",
      "  from .autonotebook import tqdm as notebook_tqdm\n"
     ]
    },
    {
     "name": "stdout",
     "output_type": "stream",
     "text": [
      "mlextend version: 0.23.4\n"
     ]
    }
   ],
   "source": [
    "from torch import nn\n",
    "from torchvision import transforms\n",
    "\n",
    "try:\n",
    "    import torch\n",
    "    import torchvision\n",
    "    assert int(torch.__version__.split(\".\")[0]) >= 2, \"torch version should be 2.+\"\n",
    "    assert int(torchvision.__version__.split(\".\")[1]) >= 15, \"torchvision version should be 0.15+\"\n",
    "    print(f\"torch version: {torch.__version__}\")\n",
    "    print(f\"torchvision version: {torchvision.__version__}\")\n",
    "except:\n",
    "    print(f\"[INFO] torch/torchvision versions not correct. Installing correct versions.\")\n",
    "    !pip3 install -U torch torchvision torchaudio --extra-index-url https://download.pytorch.org/whl/cu113\n",
    "    import torch\n",
    "    import torchvision\n",
    "    print(f\"torch version: {torch.__version__}\")\n",
    "    print(f\"torchvision version: {torchvision.__version__}\")\n",
    "\n",
    "try:\n",
    "    import matplotlib.pyplot as plt\n",
    "except ImportError:\n",
    "    print(\"[INFO] Couldn't find matplotlib...installing it\")\n",
    "    !pip install -q matplotlib\n",
    "    import matplotlib.pyplot as plt\n",
    "\n",
    "try:\n",
    "    from torchinfo import summary\n",
    "except:\n",
    "    print(\"[INFO] Couldn't find torchinfo... installing it\")\n",
    "    !pip install -q torchinfo\n",
    "    from torchinfo import summary\n",
    "\n",
    "try:\n",
    "    from tqdm.auto import tqdm\n",
    "except:\n",
    "    print(f\"[INFO] Couldnt't find tqdm... installing it \")\n",
    "    !pip install tqdm\n",
    "    from tqdm.auto import tqdm\n",
    "\n",
    "try:\n",
    "    from torchinfo import summary\n",
    "except ImportError:\n",
    "    print(\"[INFO] Couldn't find torchinfo... installing it\")\n",
    "    !pip install -q torchinfo\n",
    "    from torchinfo import summary\n",
    "\n",
    "try:\n",
    "    from dbfread import DBF\n",
    "except ImportError:\n",
    "    print(\"[INFO] Coudln't find dbfread...installing it\")\n",
    "    !pip install -q dbfread\n",
    "    from dbfread import DBF\n",
    "\n",
    "\n",
    "try:\n",
    "    from torch.utils.tensorboard import SummaryWriter\n",
    "except:\n",
    "    print(\"[INFO] Couldn't find tensorboard... installing it.\")\n",
    "    !pip install -q tensorboard\n",
    "    from torch.utils.tensorboard import SummaryWriter\n",
    "\n",
    "try:\n",
    "    import torchmetrics, mlxtend\n",
    "    print(f\"mlextend version: {mlxtend.__version__}\")\n",
    "    assert int(mlxtend.__version__.split(\".\")[1]) >- 19\n",
    "except:\n",
    "    !pip install -q torchmetrics -U mlxtend\n",
    "    import torchmetrics, mlxtend\n",
    "    print(f\"mlextend version: {mlxtend.__version__}\")\n",
    "\n",
    "try:\n",
    "    import cdsapi\n",
    "except ImportError:\n",
    "    print(\"[INFO] Coudldn't find cdsapi...installing it.\")\n",
    "    !pip install -q cdsapi\n",
    "    import cdsapi\n",
    "\n",
    "try:\n",
    "    import pandas as pd\n",
    "except ImportError:\n",
    "    print(\"[INFO] Couldn't find pandas... installing it\")\n",
    "    !pip install -q pandas\n",
    "    import pandas as pd"
   ]
  },
  {
   "cell_type": "code",
   "execution_count": 2,
   "metadata": {},
   "outputs": [],
   "source": [
    "from pathlib import Path\n",
    "\n",
    "himalayan_train_dir = Path(\"data/himalayas_data/train\")\n",
    "himalayan_val_dir = Path(\"data/himalayas_data/val\")\n",
    "himalayan_test_dir = Path(\"data/himalayas_data/test\")\n",
    "\n",
    "himalayan_train_file = himalayan_train_dir / \"train.csv\"\n",
    "himalayan_val_file = himalayan_val_dir / \"val.csv\"\n",
    "himalayan_test_file = himalayan_test_dir / \"test.csv\""
   ]
  },
  {
   "cell_type": "code",
   "execution_count": 3,
   "metadata": {},
   "outputs": [
    {
     "name": "stdout",
     "output_type": "stream",
     "text": [
      "First 10 rows:\n",
      "   SEX  CITIZEN  STATUS  MO2USED  MROUTE1  SEASON  O2USED   CALCAGE   HEIGHTM  \\\n",
      "0    1       81      72        1        1       2       1  1.084601 -1.198266   \n",
      "1    1      152      72        0        1       2       0  1.513284 -1.198266   \n",
      "2    0      158      72        0        1       2       1 -0.973077 -0.171140   \n",
      "3    1      109     264        1        1       0       1 -0.458657  0.989958   \n",
      "4    1      190      72        1        1       0       1  2.027704 -1.118520   \n",
      "5    1       15      72        0        1       2       1 -0.201448 -1.198266   \n",
      "6    1       33      72        1        1       0       1  0.484445  0.989958   \n",
      "7    0       81     288        1        0       3       1  0.570182  0.989958   \n",
      "8    1       71      72        1        1       0       1  0.998865  0.989958   \n",
      "9    1      141      72        0        0       2       0 -0.630130 -1.118520   \n",
      "\n",
      "    MDEATHS   HDEATHS  SMTMEMBERS  SMTHIRED  Target  \n",
      "0 -0.280095 -0.166441    1.659120  0.964336       1  \n",
      "1 -0.280095 -0.166441   -0.631075 -0.473708       0  \n",
      "2 -0.280095 -0.166441   -0.631075 -0.617512       0  \n",
      "3 -0.280095 -0.166441   -0.807244  0.676727       1  \n",
      "4 -0.280095 -0.166441    0.249769 -0.186099       1  \n",
      "5 -0.280095 -0.166441    1.482951  5.566078       1  \n",
      "6 -0.280095 -0.166441   -0.807244 -0.617512       0  \n",
      "7 -0.280095 -0.166441   -0.807244 -0.617512       0  \n",
      "8 -0.280095 -0.166441    0.602106  0.964336       1  \n",
      "9 -0.280095 -0.166441    0.073600 -0.473708       0  \n",
      "First training instance:\n",
      "SEX            1.000000\n",
      "CITIZEN       81.000000\n",
      "STATUS        72.000000\n",
      "MO2USED        1.000000\n",
      "MROUTE1        1.000000\n",
      "SEASON         2.000000\n",
      "O2USED         1.000000\n",
      "CALCAGE        1.084601\n",
      "HEIGHTM       -1.198266\n",
      "MDEATHS       -0.280095\n",
      "HDEATHS       -0.166441\n",
      "SMTMEMBERS     1.659120\n",
      "SMTHIRED       0.964336\n",
      "Target         1.000000\n",
      "Name: 0, dtype: float64\n",
      "Instance shape:\n",
      "(14,)\n"
     ]
    }
   ],
   "source": [
    "df_train = pd.read_csv(himalayan_train_file)\n",
    "\n",
    "print(f\"First 10 rows:\\n{df_train.head(10)}\")\n",
    "print(f\"First training instance:\\n{df_train.iloc[0]}\")\n",
    "print(f\"Instance shape:\\n{df_train.iloc[0].shape}\")"
   ]
  },
  {
   "cell_type": "code",
   "execution_count": null,
   "metadata": {},
   "outputs": [
    {
     "name": "stdout",
     "output_type": "stream",
     "text": [
      "Basic Transform: <function basic_transform at 0x1655c6520>\n"
     ]
    }
   ],
   "source": [
    "from torchvision import transforms\n",
    "\n",
    "def basic_transform (x):\n",
    "    return torch.tensor(x, dtype=torch.float)\n",
    "\n",
    "print(f\"Basic Transform: {basic_transform}\")"
   ]
  },
  {
   "cell_type": "code",
   "execution_count": 11,
   "metadata": {},
   "outputs": [
    {
     "data": {
      "text/plain": [
       "(<torch.utils.data.dataloader.DataLoader at 0x1655eba90>,\n",
       " <torch.utils.data.dataloader.DataLoader at 0x1655e2dd0>,\n",
       " <torch.utils.data.dataloader.DataLoader at 0x1655e3ad0>)"
      ]
     },
     "execution_count": 11,
     "metadata": {},
     "output_type": "execute_result"
    }
   ],
   "source": [
    "from src.helper_functions import create_dataloaders\n",
    "\n",
    "train_csv = str(Path(\"data/himalayas_data/train/train.csv\"))\n",
    "val_csv   = str(Path(\"data/himalayas_data/val/val.csv\"))\n",
    "test_csv  = str(Path(\"data/himalayas_data/test/test.csv\"))\n",
    "\n",
    "train_dataloader, val_dataloader, test_dataloader = create_dataloaders(\n",
    "    train_file=train_csv,\n",
    "    val_file=val_csv,\n",
    "    test_file=test_csv,\n",
    "    transform=basic_transform,  \n",
    "    batch_size=32\n",
    ")\n",
    "\n",
    "train_dataloader, val_dataloader, test_dataloader"
   ]
  }
 ],
 "metadata": {
  "kernelspec": {
   "display_name": "Python3_Env",
   "language": "python",
   "name": "python3"
  },
  "language_info": {
   "codemirror_mode": {
    "name": "ipython",
    "version": 3
   },
   "file_extension": ".py",
   "mimetype": "text/x-python",
   "name": "python",
   "nbconvert_exporter": "python",
   "pygments_lexer": "ipython3",
   "version": "3.11.4"
  }
 },
 "nbformat": 4,
 "nbformat_minor": 2
}
